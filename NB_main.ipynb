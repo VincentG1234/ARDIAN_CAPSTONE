{
 "cells": [
  {
   "cell_type": "markdown",
   "metadata": {},
   "source": [
    "# NB to test locally the models"
   ]
  },
  {
   "cell_type": "code",
   "execution_count": 1,
   "metadata": {},
   "outputs": [
    {
     "name": "stderr",
     "output_type": "stream",
     "text": [
      "c:\\Users\\vince\\Documents\\PYTHON\\M2DS\\Capstone_ARDIAN\\ARDIAN_CAPSTONE\\venv\\Lib\\site-packages\\tqdm\\auto.py:21: TqdmWarning: IProgress not found. Please update jupyter and ipywidgets. See https://ipywidgets.readthedocs.io/en/stable/user_install.html\n",
      "  from .autonotebook import tqdm as notebook_tqdm\n"
     ]
    }
   ],
   "source": [
    "# Librairies\n",
    "import importlib\n",
    "import os\n",
    "import sys\n",
    "\n",
    "import pandas as pd\n",
    "import numpy as np\n",
    "import matplotlib.pyplot as plt\n",
    "from transformers import AutoTokenizer, AutoModel\n",
    "import torch"
   ]
  },
  {
   "cell_type": "code",
   "execution_count": 2,
   "metadata": {},
   "outputs": [
    {
     "name": "stderr",
     "output_type": "stream",
     "text": [
      "c:\\Users\\vince\\Documents\\PYTHON\\M2DS\\Capstone_ARDIAN\\ARDIAN_CAPSTONE\\venv\\Lib\\site-packages\\fuzzywuzzy\\fuzz.py:11: UserWarning: Using slow pure-python SequenceMatcher. Install python-Levenshtein to remove this warning\n",
      "  warnings.warn('Using slow pure-python SequenceMatcher. Install python-Levenshtein to remove this warning')\n"
     ]
    }
   ],
   "source": [
    "import Scripts.filter_user\n",
    "import Scripts.filter_user.filter\n",
    "import Scripts.main\n",
    "from Scripts.main import searchmodel_main"
   ]
  },
  {
   "cell_type": "code",
   "execution_count": 3,
   "metadata": {},
   "outputs": [
    {
     "data": {
      "text/plain": [
       "<module 'Scripts.language_model_folder' (<_frozen_importlib_external.NamespaceLoader object at 0x0000020CA9803010>)>"
      ]
     },
     "execution_count": 3,
     "metadata": {},
     "output_type": "execute_result"
    }
   ],
   "source": [
    "importlib.reload(Scripts.main)\n",
    "importlib.reload(Scripts.filter_user.filter)\n",
    "importlib.reload(Scripts.filter_user)\n",
    "importlib.reload(Scripts.language_model_folder)"
   ]
  },
  {
   "cell_type": "code",
   "execution_count": 4,
   "metadata": {},
   "outputs": [],
   "source": [
    "# Load model from HuggingFace Hub\n",
    "tokenizer = AutoTokenizer.from_pretrained(\"sentence-transformers/multi-qa-MiniLM-L6-cos-v1\")\n",
    "model = AutoModel.from_pretrained(\"sentence-transformers/multi-qa-MiniLM-L6-cos-v1\")"
   ]
  },
  {
   "cell_type": "code",
   "execution_count": 5,
   "metadata": {},
   "outputs": [],
   "source": [
    "df = pd.read_csv('data/df_for_local.csv')\n",
    "df = df.dropna(subset=['BUSINESS_DESCRIPTION', 'TAGS'])"
   ]
  },
  {
   "cell_type": "code",
   "execution_count": 12,
   "metadata": {},
   "outputs": [
    {
     "name": "stdout",
     "output_type": "stream",
     "text": [
      "Entrez le pays de l'entreprise mère. ex: FR, DE, UK, US... \n",
      "\n",
      "Choisissez une valeur parmi celles disponibles pour REGION :\n",
      "['FR' 'IT']\n",
      "Exemple : 'FR' pour un seul élément, ['FR', 'DE'] pour plusieurs, ou 'all' pour tous.\n",
      "\n",
      "Choisissez une entreprise, voici quelques exemples :\n",
      "0                                     CENISIS\n",
      "1               PAVILLON DE LA GRANDE CASCADE\n",
      "2               SGA Société Gestion d'Accueil\n",
      "3                        COMMUNE DE MONTESSON\n",
      "4     DIMO - Objets et textiles personnalisés\n",
      "5                                Lycée Ozenne\n",
      "6                                    RAYMONDE\n",
      "10                      SOC DES ESPACES VERTS\n",
      "12                                   Formycom\n",
      "15                                    IDOCAPS\n",
      "Name: NAME, dtype: object\n",
      "Voulez-vous appliquer un filtre sur les valeurs de la colonne FTE/REVENUE/EBITDA ?\n",
      "Voulez-vous appliquer un filtre sur les valeurs de la colonne FTE/REVENUE/EBITDA ?\n",
      "Choisissez une valeur parmi celles disponibles pour REGION :\n",
      "['FR' 'IT']\n",
      "Exemple : 'FR' pour un seul élément, ['FR', 'DE'] pour plusieurs, ou 'all' pour tous.\n",
      "\n",
      "Choisissez une valeur parmi celles disponibles pour SECTOR :\n",
      "['consumer' 'services' 'tmt' 'scienceHealth' 'industrials']\n",
      "Exemple : 'FR' pour un seul élément, ['FR', 'DE'] pour plusieurs, ou 'all' pour tous.\n",
      "\n",
      "Choisissez une valeur parmi celles disponibles pour SUBSECTOR :\n",
      "['food' 'professionalServices' 'technicalServices' 'education'\n",
      " 'technology' 'media' 'software' 'medtech' 'agriculture' 'consumerGoods'\n",
      " 'biotechnology' 'healthcareServices' 'retail' 'pharmaceuticals']\n",
      "Exemple : 'FR' pour un seul élément, ['FR', 'DE'] pour plusieurs, ou 'all' pour tous.\n",
      "\n",
      "Vous avez choisi : Pays = ['FR' 'IT'], Secteur = ['consumer' 'services' 'tmt' 'scienceHealth' 'industrials'], Sous-secteur = ['food' 'professionalServices' 'technicalServices' 'education'\n",
      " 'technology' 'media' 'software' 'medtech' 'agriculture' 'consumerGoods'\n",
      " 'biotechnology' 'healthcareServices' 'retail' 'pharmaceuticals']\n",
      "L'entreprise mère contient ces mots-clés : bi, business intelligence, business consulting, integration, etl, data consulting, data governance, data strategy, data privacy, data transformation, data management, data migration, data infrastructure, data security, consulting, reporting, data integration, data access, master data management, data analytics\n",
      "Entrez des mots-clés supplémentaires (séparés par des virgules) pour affiner la recherche : \n",
      "Aucun mot-clé ajouté.\n",
      "Calcul de l'embedding sur la BUSINESS DESCRIPTION\n"
     ]
    },
    {
     "name": "stderr",
     "output_type": "stream",
     "text": [
      "Processing embeddings BUSINESS_DESCRIPTION: 100%|██████████| 2962/2962 [02:20<00:00, 21.06it/s]\n"
     ]
    },
    {
     "name": "stdout",
     "output_type": "stream",
     "text": [
      "Calcul de la réduction de dimension avec PCA...\n",
      "Nombre de dimensions retenues : 101 (pour 85.0% de variance)\n",
      "Calcul de l'embedding sur les TAGS\n"
     ]
    },
    {
     "name": "stderr",
     "output_type": "stream",
     "text": [
      "Processing embeddings TAGS: 100%|██████████| 2962/2962 [01:11<00:00, 41.54it/s]\n"
     ]
    },
    {
     "name": "stdout",
     "output_type": "stream",
     "text": [
      "Calcul de la réduction de dimension avec PCA...\n",
      "Nombre de dimensions retenues : 59 (pour 85.0% de variance)\n",
      "Calcul de la similarité combinée\n",
      "Top 50 des entreprises les plus similaires:\n",
      " 1004    ClickGeneration - l'Italia Che Evolve\n",
      "1129            CIDIESSE DATA SYSTEM - S.R.L.\n",
      "2609                                   Brains\n",
      "2774          Hilt Technology Engineering LTD\n",
      "264                                   Skylabs\n",
      "742                                  INOVELYA\n",
      "1477                        NEXIAN Consulting\n",
      "102                            EGGERS Conseil\n",
      "1831                                   Tildeo\n",
      "2121                                 NEXT-HOP\n",
      "1508                                smartpush\n",
      "926                             LEADEO GROUPE\n",
      "1135                                  inensia\n",
      "2713         Advice Information Technology IT\n",
      "150                                     DMAIC\n",
      "1862                               Olimpo Srl\n",
      "654                                     Upyne\n",
      "1118                       Just Make Business\n",
      "888                               Elledue Srl\n",
      "2405                               DATANALYSE\n",
      "2108                  Sistemi e Soluzioni Srl\n",
      "2422                         e-project s.r.l.\n",
      "1866                      DE GRAËT CONSULTING\n",
      "1485                           AlFaConsultinG\n",
      "591                             FIRST Conseil\n",
      "746                            Citron Conseil\n",
      "683                                    ENDKOO\n",
      "2630                        Onepoint x airmis\n",
      "2331                               Ipso Facto\n",
      "1084                         Sofos Consulting\n",
      "2483                          4Consulting SrL\n",
      "1580                                    LIKSI\n",
      "253                             Open Mind Srl\n",
      "422                   Shock-Wave| Agenzia web\n",
      "2716                           H&F Consulting\n",
      "1392                                     LBDI\n",
      "2209                                 Provigis\n",
      "2606                                  Artimon\n",
      "661                                     TESZU\n",
      "802                     Diapason Informatique\n",
      "1540           INTERNATIONAL OMEGA CONSULTING\n",
      "1000                                  Solicis\n",
      "2848                              Notoria srl\n",
      "1885                      Promo PA Fondazione\n",
      "1079                       Jobyourlife s.r.l.\n",
      "709                   ABOUT CONSULTING S.p.A.\n",
      "556                                COPLUS SRL\n",
      "611                   gf ConsulenzAziendaleHR\n",
      "844                           HEADSLab Italia\n",
      "962                                     ACCES\n",
      "Name: NAME, dtype: object\n",
      "[0.77516066 0.74246308 0.67263189 0.65981966 0.64922983 0.64153492\n",
      " 0.63321205 0.6208702  0.6143583  0.61260207 0.61129472 0.61063672\n",
      " 0.60982594 0.6072915  0.60479169 0.60088995 0.59119001 0.58905951\n",
      " 0.58110273 0.5787593  0.5767031  0.57457267 0.57450981 0.57371193\n",
      " 0.56987901 0.5698452  0.56931947 0.56856736 0.56539972 0.5639527\n",
      " 0.56017145 0.56008894 0.5595431  0.55914811 0.55615935 0.55570619\n",
      " 0.55474687 0.55315235 0.55009115 0.54738809 0.54717832 0.54680506\n",
      " 0.5454843  0.54499964 0.54286422 0.54191135 0.54124498 0.53899317\n",
      " 0.53835297 0.53673298]\n",
      "(2962,)\n"
     ]
    }
   ],
   "source": [
    "results = searchmodel_main(df, model=model, tokenizer=tokenizer, top_n=50)"
   ]
  },
  {
   "cell_type": "code",
   "execution_count": 13,
   "metadata": {},
   "outputs": [
    {
     "data": {
      "text/plain": [
       "Index([1004, 1129, 2609, 2774,  264,  742, 1477,  102, 1831, 2121, 1508,  926,\n",
       "       1135, 2713,  150, 1862,  654, 1118,  888, 2405, 2108, 2422, 1866, 1485,\n",
       "        591,  746,  683, 2630, 2331, 1084, 2483, 1580,  253,  422, 2716, 1392,\n",
       "       2209, 2606,  661,  802, 1540, 1000, 2848, 1885, 1079,  709,  556,  611,\n",
       "        844,  962],\n",
       "      dtype='int64')"
      ]
     },
     "execution_count": 13,
     "metadata": {},
     "output_type": "execute_result"
    }
   ],
   "source": [
    "results.index"
   ]
  },
  {
   "cell_type": "code",
   "execution_count": 14,
   "metadata": {},
   "outputs": [
    {
     "name": "stdout",
     "output_type": "stream",
     "text": [
      "2\n"
     ]
    }
   ],
   "source": [
    "def count_common_values(array1, array2):\n",
    "    \"\"\"\n",
    "    Returns the number of common values between two arrays.\n",
    "    \"\"\"\n",
    "    return len(set(array1) & set(array2))\n",
    "\n",
    "# Example usage\n",
    "arr1 = np.array([1012, 1138,  750, 1487,  618, 2797, 2349,  739,  153, 1551, 1518, 1879,\n",
    "       1407,  428,  934,  564, 2736, 1847,  363, 2631, 1592,  754, 2164, 1127,\n",
    "       1495, 2845,  661, 2576, 1883, 1088,  896,  267, 2739,  103, 1144, 1902,\n",
    "       1855, 2138,  519, 2652,  169,  835, 1217, 1104, 2227, 2125, 1391, 2744,\n",
    "       1665, 2331])\n",
    "arr2 = np.array([1004, 1129, 2609, 2774,  264,  742, 1477,  102, 1831, 2121, 1508,  926,\n",
    "       1135, 2713,  150, 1862,  654, 1118,  888, 2405, 2108, 2422, 1866, 1485,\n",
    "        591,  746,  683, 2630, 2331, 1084, 2483, 1580,  253,  422, 2716, 1392,\n",
    "       2209, 2606,  661,  802, 1540, 1000, 2848, 1885, 1079,  709,  556,  611,\n",
    "        844,  962])\n",
    "\n",
    "print(count_common_values(arr1, arr2))\n"
   ]
  }
 ],
 "metadata": {
  "kernelspec": {
   "display_name": "venv",
   "language": "python",
   "name": "python3"
  },
  "language_info": {
   "codemirror_mode": {
    "name": "ipython",
    "version": 3
   },
   "file_extension": ".py",
   "mimetype": "text/x-python",
   "name": "python",
   "nbconvert_exporter": "python",
   "pygments_lexer": "ipython3",
   "version": "3.11.0rc2"
  }
 },
 "nbformat": 4,
 "nbformat_minor": 2
}

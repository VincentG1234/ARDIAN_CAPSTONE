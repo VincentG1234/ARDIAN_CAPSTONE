{
 "cells": [
  {
   "cell_type": "markdown",
   "metadata": {},
   "source": [
    "# NB to test locally the models"
   ]
  },
  {
   "cell_type": "code",
   "execution_count": 2,
   "metadata": {},
   "outputs": [],
   "source": [
    "# Librairies\n",
    "import importlib\n",
    "import os\n",
    "import sys\n",
    "\n",
    "import pandas as pd\n",
    "import numpy as np\n",
    "import matplotlib.pyplot as plt\n",
    "from transformers import AutoTokenizer, AutoModel\n",
    "import torch"
   ]
  },
  {
   "cell_type": "code",
   "execution_count": 3,
   "metadata": {},
   "outputs": [
    {
     "name": "stderr",
     "output_type": "stream",
     "text": [
      "c:\\Users\\vince\\Documents\\PYTHON\\M2DS\\Capstone_ARDIAN\\ARDIAN_CAPSTONE\\venv\\Lib\\site-packages\\fuzzywuzzy\\fuzz.py:11: UserWarning: Using slow pure-python SequenceMatcher. Install python-Levenshtein to remove this warning\n",
      "  warnings.warn('Using slow pure-python SequenceMatcher. Install python-Levenshtein to remove this warning')\n"
     ]
    }
   ],
   "source": [
    "import Scripts.filter_user\n",
    "import Scripts.filter_user.filter\n",
    "import Scripts.main\n",
    "from Scripts.main import searchmodel_main"
   ]
  },
  {
   "cell_type": "code",
   "execution_count": 4,
   "metadata": {},
   "outputs": [
    {
     "data": {
      "text/plain": [
       "<module 'Scripts.language_model_folder' (<_frozen_importlib_external.NamespaceLoader object at 0x000002057FE3CD10>)>"
      ]
     },
     "execution_count": 4,
     "metadata": {},
     "output_type": "execute_result"
    }
   ],
   "source": [
    "importlib.reload(Scripts.main)\n",
    "importlib.reload(Scripts.filter_user.filter)\n",
    "importlib.reload(Scripts.filter_user)\n",
    "importlib.reload(Scripts.language_model_folder)"
   ]
  },
  {
   "cell_type": "code",
   "execution_count": 4,
   "metadata": {},
   "outputs": [],
   "source": [
    "# Load model from HuggingFace Hub\n",
    "tokenizer = AutoTokenizer.from_pretrained(\"sentence-transformers/multi-qa-MiniLM-L6-cos-v1\")\n",
    "model = AutoModel.from_pretrained(\"sentence-transformers/multi-qa-MiniLM-L6-cos-v1\")"
   ]
  },
  {
   "cell_type": "code",
   "execution_count": 9,
   "metadata": {},
   "outputs": [],
   "source": [
    "df = pd.read_csv('data/df_for_local.csv')\n",
    "df = df.dropna(subset=['BUSINESS_DESCRIPTION', 'TAGS'])"
   ]
  },
  {
   "cell_type": "code",
   "execution_count": 43,
   "metadata": {},
   "outputs": [
    {
     "data": {
      "text/plain": [
       "array(['[]',\n",
       "       '[\\r\\n  {\\r\\n    \"id\": 1055,\\r\\n    \"name\": \"Demeter\",\\r\\n    \"share\": \"minority\",\\r\\n    \"strategy_id\": null,\\r\\n    \"strategy_name\": null\\r\\n  }\\r\\n]',\n",
       "       '[\\r\\n  {\\r\\n    \"id\": 1373,\\r\\n    \"name\": \"Isatis Capital\",\\r\\n    \"share\": \"minority\",\\r\\n    \"strategy_id\": null,\\r\\n    \"strategy_name\": null\\r\\n  }\\r\\n]',\n",
       "       '[\\r\\n  {\\r\\n    \"id\": 1142,\\r\\n    \"name\": \"Sparring Capital\",\\r\\n    \"share\": \"minority\",\\r\\n    \"strategy_id\": 2850,\\r\\n    \"strategy_name\": \"Buyout\"\\r\\n  }\\r\\n]',\n",
       "       '[\\r\\n  {\\r\\n    \"id\": 994,\\r\\n    \"name\": \"Citizen Capital\",\\r\\n    \"share\": \"minority\",\\r\\n    \"strategy_id\": null,\\r\\n    \"strategy_name\": null\\r\\n  },\\r\\n  {\\r\\n    \"id\": 2324,\\r\\n    \"name\": \"OneRagTime\",\\r\\n    \"share\": \"minority\",\\r\\n    \"strategy_id\": null,\\r\\n    \"strategy_name\": null\\r\\n  },\\r\\n  {\\r\\n    \"id\": 1723,\\r\\n    \"name\": \"Financière Saint-James \",\\r\\n    \"share\": \"minority\",\\r\\n    \"strategy_id\": null,\\r\\n    \"strategy_name\": null\\r\\n  },\\r\\n  {\\r\\n    \"id\": 4988,\\r\\n    \"name\": \"Investir&+\",\\r\\n    \"share\": \"minority\",\\r\\n    \"strategy_id\": null,\\r\\n    \"strategy_name\": null\\r\\n  }\\r\\n]',\n",
       "       '[\\r\\n  {\\r\\n    \"id\": 976,\\r\\n    \"name\": \"Florac\",\\r\\n    \"share\": \"minority\",\\r\\n    \"strategy_id\": null,\\r\\n    \"strategy_name\": null\\r\\n  }\\r\\n]',\n",
       "       '[\\r\\n  {\\r\\n    \"id\": 2357,\\r\\n    \"name\": \"Aster Capital\",\\r\\n    \"share\": \"minority\",\\r\\n    \"strategy_id\": null,\\r\\n    \"strategy_name\": null\\r\\n  }\\r\\n]',\n",
       "       '[\\r\\n  {\\r\\n    \"id\": 1363,\\r\\n    \"name\": \"Korelya Capital\",\\r\\n    \"share\": \"minority\",\\r\\n    \"strategy_id\": null,\\r\\n    \"strategy_name\": null\\r\\n  },\\r\\n  {\\r\\n    \"id\": 374,\\r\\n    \"name\": \"Atomico\",\\r\\n    \"share\": \"minority\",\\r\\n    \"strategy_id\": null,\\r\\n    \"strategy_name\": null\\r\\n  },\\r\\n  {\\r\\n    \"id\": 1727,\\r\\n    \"name\": \"AXA Investment Managers\",\\r\\n    \"share\": \"minority\",\\r\\n    \"strategy_id\": 5408,\\r\\n    \"strategy_name\": \"Capza - Growth Tech\"\\r\\n  }\\r\\n]',\n",
       "       '[\\r\\n  {\\r\\n    \"id\": 5875,\\r\\n    \"name\": \"AVM Gestioni\",\\r\\n    \"share\": \"minority\",\\r\\n    \"strategy_id\": null,\\r\\n    \"strategy_name\": null\\r\\n  }\\r\\n]',\n",
       "       '[\\r\\n  {\\r\\n    \"id\": 2460,\\r\\n    \"name\": \"Plug and Play Ventures\",\\r\\n    \"share\": \"minority\",\\r\\n    \"strategy_id\": null,\\r\\n    \"strategy_name\": null\\r\\n  },\\r\\n  {\\r\\n    \"id\": 7596,\\r\\n    \"name\": \"Panache Ventures\",\\r\\n    \"share\": \"minority\",\\r\\n    \"strategy_id\": null,\\r\\n    \"strategy_name\": null\\r\\n  },\\r\\n  {\\r\\n    \"id\": 1262,\\r\\n    \"name\": \"FJ Labs\",\\r\\n    \"share\": \"minority\",\\r\\n    \"strategy_id\": null,\\r\\n    \"strategy_name\": null\\r\\n  },\\r\\n  {\\r\\n    \"id\": 5101,\\r\\n    \"name\": \"Mucker Capital\",\\r\\n    \"share\": \"minority\",\\r\\n    \"strategy_id\": null,\\r\\n    \"strategy_name\": null\\r\\n  },\\r\\n  {\\r\\n    \"id\": 5041,\\r\\n    \"name\": \"Techmind\",\\r\\n    \"share\": \"minority\",\\r\\n    \"strategy_id\": null,\\r\\n    \"strategy_name\": null\\r\\n  },\\r\\n  {\\r\\n    \"id\": 1411,\\r\\n    \"name\": \"Kima Ventures\",\\r\\n    \"share\": \"minority\",\\r\\n    \"strategy_id\": null,\\r\\n    \"strategy_name\": null\\r\\n  }\\r\\n]',\n",
       "       '[\\r\\n  {\\r\\n    \"id\": 1016,\\r\\n    \"name\": \"Initiative & Finance\",\\r\\n    \"share\": \"majority\",\\r\\n    \"strategy_id\": 3625,\\r\\n    \"strategy_name\": \"Tomorrow\"\\r\\n  },\\r\\n  {\\r\\n    \"id\": 1132,\\r\\n    \"name\": \"Arkéa Capital Investissement\",\\r\\n    \"share\": \"minority\",\\r\\n    \"strategy_id\": null,\\r\\n    \"strategy_name\": null\\r\\n  }\\r\\n]',\n",
       "       '[\\r\\n  {\\r\\n    \"id\": 180,\\r\\n    \"name\": \"TA Associates\",\\r\\n    \"share\": \"majority\",\\r\\n    \"strategy_id\": 2256,\\r\\n    \"strategy_name\": \"Flagship\"\\r\\n  },\\r\\n  {\\r\\n    \"id\": 931,\\r\\n    \"name\": \"Ambienta\",\\r\\n    \"share\": \"minority\",\\r\\n    \"strategy_id\": 2979,\\r\\n    \"strategy_name\": \"Buyout\"\\r\\n  }\\r\\n]',\n",
       "       '[\\r\\n  {\\r\\n    \"id\": 3731,\\r\\n    \"name\": \"Banque Populaire\",\\r\\n    \"share\": \"minority\",\\r\\n    \"strategy_id\": null,\\r\\n    \"strategy_name\": null\\r\\n  },\\r\\n  {\\r\\n    \"id\": 659,\\r\\n    \"name\": \"Bpifrance\",\\r\\n    \"share\": \"minority\",\\r\\n    \"strategy_id\": null,\\r\\n    \"strategy_name\": null\\r\\n  }\\r\\n]',\n",
       "       '[\\r\\n  {\\r\\n    \"id\": 1017,\\r\\n    \"name\": \"Siparex\",\\r\\n    \"share\": \"minority\",\\r\\n    \"strategy_id\": 3429,\\r\\n    \"strategy_name\": \"France Nucléaire\"\\r\\n  },\\r\\n  {\\r\\n    \"id\": 659,\\r\\n    \"name\": \"Bpifrance\",\\r\\n    \"share\": \"minority\",\\r\\n    \"strategy_id\": 2216,\\r\\n    \"strategy_name\": \"Mid Cap\"\\r\\n  }\\r\\n]',\n",
       "       '[\\r\\n  {\\r\\n    \"id\": 659,\\r\\n    \"name\": \"Bpifrance\",\\r\\n    \"share\": \"minority\",\\r\\n    \"strategy_id\": null,\\r\\n    \"strategy_name\": null\\r\\n  },\\r\\n  {\\r\\n    \"id\": 1411,\\r\\n    \"name\": \"Kima Ventures\",\\r\\n    \"share\": \"minority\",\\r\\n    \"strategy_id\": null,\\r\\n    \"strategy_name\": null\\r\\n  },\\r\\n  {\\r\\n    \"id\": 2094,\\r\\n    \"name\": \"Quantonation Ventures\",\\r\\n    \"share\": \"minority\",\\r\\n    \"strategy_id\": null,\\r\\n    \"strategy_name\": null\\r\\n  }\\r\\n]',\n",
       "       '[\\r\\n  {\\r\\n    \"id\": 722,\\r\\n    \"name\": \"MBO+\",\\r\\n    \"share\": \"minority\",\\r\\n    \"strategy_id\": null,\\r\\n    \"strategy_name\": null\\r\\n  }\\r\\n]',\n",
       "       '[\\r\\n  {\\r\\n    \"id\": 131,\\r\\n    \"name\": \"Verlinvest\",\\r\\n    \"share\": \"minority\",\\r\\n    \"strategy_id\": null,\\r\\n    \"strategy_name\": null\\r\\n  }\\r\\n]',\n",
       "       '[\\r\\n  {\\r\\n    \"id\": 1143,\\r\\n    \"name\": \"21 Invest\",\\r\\n    \"share\": \"minority\",\\r\\n    \"strategy_id\": null,\\r\\n    \"strategy_name\": null\\r\\n  }\\r\\n]',\n",
       "       '[\\r\\n  {\\r\\n    \"id\": 18,\\r\\n    \"name\": \"Carlyle\",\\r\\n    \"share\": \"majority\",\\r\\n    \"strategy_id\": 1709,\\r\\n    \"strategy_name\": \"Global Private Equity - European Technology\"\\r\\n  }\\r\\n]',\n",
       "       '[\\r\\n  {\\r\\n    \"id\": 1078,\\r\\n    \"name\": \"United Ventures\",\\r\\n    \"share\": \"minority\",\\r\\n    \"strategy_id\": null,\\r\\n    \"strategy_name\": null\\r\\n  },\\r\\n  {\\r\\n    \"id\": 189,\\r\\n    \"name\": \"Eurazeo\",\\r\\n    \"share\": \"minority\",\\r\\n    \"strategy_id\": 1775,\\r\\n    \"strategy_name\": \"Growth\"\\r\\n  },\\r\\n  {\\r\\n    \"id\": 12402,\\r\\n    \"name\": \"Zest Group\",\\r\\n    \"share\": \"minority\",\\r\\n    \"strategy_id\": null,\\r\\n    \"strategy_name\": null\\r\\n  },\\r\\n  {\\r\\n    \"id\": 1181,\\r\\n    \"name\": \"Axon Partners Group\",\\r\\n    \"share\": \"minority\",\\r\\n    \"strategy_id\": null,\\r\\n    \"strategy_name\": null\\r\\n  },\\r\\n  {\\r\\n    \"id\": 376,\\r\\n    \"name\": \"Exor\",\\r\\n    \"share\": \"minority\",\\r\\n    \"strategy_id\": null,\\r\\n    \"strategy_name\": null\\r\\n  }\\r\\n]',\n",
       "       '[\\r\\n  {\\r\\n    \"id\": 1324,\\r\\n    \"name\": \"Amundi Private Equity Funds\",\\r\\n    \"share\": \"minority\",\\r\\n    \"strategy_id\": null,\\r\\n    \"strategy_name\": null\\r\\n  },\\r\\n  {\\r\\n    \"id\": 2108,\\r\\n    \"name\": \"Vivalto Partners\",\\r\\n    \"share\": \"minority\",\\r\\n    \"strategy_id\": null,\\r\\n    \"strategy_name\": null\\r\\n  }\\r\\n]',\n",
       "       '[\\r\\n  {\\r\\n    \"id\": 8162,\\r\\n    \"name\": \"Hexa\",\\r\\n    \"share\": \"minority\",\\r\\n    \"strategy_id\": null,\\r\\n    \"strategy_name\": null\\r\\n  }\\r\\n]',\n",
       "       '[\\r\\n  {\\r\\n    \"id\": 19,\\r\\n    \"name\": \"Charterhouse\",\\r\\n    \"share\": \"majority\",\\r\\n    \"strategy_id\": null,\\r\\n    \"strategy_name\": null\\r\\n  }\\r\\n]',\n",
       "       '[\\r\\n  {\\r\\n    \"id\": 116,\\r\\n    \"name\": \"Naxicap\",\\r\\n    \"share\": \"minority\",\\r\\n    \"strategy_id\": null,\\r\\n    \"strategy_name\": null\\r\\n  }\\r\\n]',\n",
       "       '[\\r\\n  {\\r\\n    \"id\": 2777,\\r\\n    \"name\": \"A Plus Finance\",\\r\\n    \"share\": \"minority\",\\r\\n    \"strategy_id\": null,\\r\\n    \"strategy_name\": null\\r\\n  },\\r\\n  {\\r\\n    \"id\": 2009,\\r\\n    \"name\": \"M Capital Partners\",\\r\\n    \"share\": \"minority\",\\r\\n    \"strategy_id\": null,\\r\\n    \"strategy_name\": null\\r\\n  }\\r\\n]',\n",
       "       '[\\r\\n  {\\r\\n    \"id\": 8478,\\r\\n    \"name\": \"BCG Digital Ventures\",\\r\\n    \"share\": \"minority\",\\r\\n    \"strategy_id\": null,\\r\\n    \"strategy_name\": null\\r\\n  },\\r\\n  {\\r\\n    \"id\": 5375,\\r\\n    \"name\": \"Unusual Ventures\",\\r\\n    \"share\": \"minority\",\\r\\n    \"strategy_id\": null,\\r\\n    \"strategy_name\": null\\r\\n  },\\r\\n  {\\r\\n    \"id\": 99,\\r\\n    \"name\": \"Partech\",\\r\\n    \"share\": \"minority\",\\r\\n    \"strategy_id\": 1883,\\r\\n    \"strategy_name\": \"Venture Capital\"\\r\\n  }\\r\\n]',\n",
       "       '[\\r\\n  {\\r\\n    \"id\": 2777,\\r\\n    \"name\": \"A Plus Finance\",\\r\\n    \"share\": \"minority\",\\r\\n    \"strategy_id\": null,\\r\\n    \"strategy_name\": null\\r\\n  }\\r\\n]',\n",
       "       '[\\r\\n  {\\r\\n    \"id\": 3052,\\r\\n    \"name\": \"XYence\",\\r\\n    \"share\": \"minority\",\\r\\n    \"strategy_id\": null,\\r\\n    \"strategy_name\": null\\r\\n  }\\r\\n]',\n",
       "       '[\\r\\n  {\\r\\n    \"id\": 1684,\\r\\n    \"name\": \"Boost Heroes\",\\r\\n    \"share\": \"minority\",\\r\\n    \"strategy_id\": null,\\r\\n    \"strategy_name\": null\\r\\n  }\\r\\n]',\n",
       "       '[\\r\\n  {\\r\\n    \"id\": 189,\\r\\n    \"name\": \"Eurazeo\",\\r\\n    \"share\": \"minority\",\\r\\n    \"strategy_id\": 3249,\\r\\n    \"strategy_name\": \"Digital\"\\r\\n  },\\r\\n  {\\r\\n    \"id\": 1411,\\r\\n    \"name\": \"Kima Ventures\",\\r\\n    \"share\": \"minority\",\\r\\n    \"strategy_id\": null,\\r\\n    \"strategy_name\": null\\r\\n  },\\r\\n  {\\r\\n    \"id\": 99,\\r\\n    \"name\": \"Partech\",\\r\\n    \"share\": \"minority\",\\r\\n    \"strategy_id\": 1883,\\r\\n    \"strategy_name\": \"Venture Capital\"\\r\\n  }\\r\\n]',\n",
       "       '[\\r\\n  {\\r\\n    \"id\": 189,\\r\\n    \"name\": \"Eurazeo\",\\r\\n    \"share\": \"minority\",\\r\\n    \"strategy_id\": null,\\r\\n    \"strategy_name\": null\\r\\n  }\\r\\n]',\n",
       "       '[\\r\\n  {\\r\\n    \"id\": 659,\\r\\n    \"name\": \"Bpifrance\",\\r\\n    \"share\": \"minority\",\\r\\n    \"strategy_id\": 2215,\\r\\n    \"strategy_name\": \"Small-cap\"\\r\\n  },\\r\\n  {\\r\\n    \"id\": 2387,\\r\\n    \"name\": \"Caisse d\\'Épargne\",\\r\\n    \"share\": \"minority\",\\r\\n    \"strategy_id\": 2397,\\r\\n    \"strategy_name\": \"Growth Capital\"\\r\\n  }\\r\\n]',\n",
       "       '[\\r\\n  {\\r\\n    \"id\": 189,\\r\\n    \"name\": \"Eurazeo\",\\r\\n    \"share\": \"minority\",\\r\\n    \"strategy_id\": 3249,\\r\\n    \"strategy_name\": \"Digital\"\\r\\n  },\\r\\n  {\\r\\n    \"id\": 871,\\r\\n    \"name\": \"Northzone\",\\r\\n    \"share\": \"minority\",\\r\\n    \"strategy_id\": null,\\r\\n    \"strategy_name\": null\\r\\n  },\\r\\n  {\\r\\n    \"id\": 948,\\r\\n    \"name\": \"Aglaé Ventures\",\\r\\n    \"share\": \"minority\",\\r\\n    \"strategy_id\": null,\\r\\n    \"strategy_name\": null\\r\\n  },\\r\\n  {\\r\\n    \"id\": 1411,\\r\\n    \"name\": \"Kima Ventures\",\\r\\n    \"share\": \"minority\",\\r\\n    \"strategy_id\": null,\\r\\n    \"strategy_name\": null\\r\\n  },\\r\\n  {\\r\\n    \"id\": 2377,\\r\\n    \"name\": \"The Family\",\\r\\n    \"share\": \"minority\",\\r\\n    \"strategy_id\": 2286,\\r\\n    \"strategy_name\": \"Accelerator\"\\r\\n  },\\r\\n  {\\r\\n    \"id\": 720,\\r\\n    \"name\": \"DST Global\",\\r\\n    \"share\": \"minority\",\\r\\n    \"strategy_id\": null,\\r\\n    \"strategy_name\": null\\r\\n  },\\r\\n  {\\r\\n    \"id\": 1108,\\r\\n    \"name\": \"Stride.VC\",\\r\\n    \"share\": \"minority\",\\r\\n    \"strategy_id\": null,\\r\\n    \"strategy_name\": null\\r\\n  },\\r\\n  {\\r\\n    \"id\": 1460,\\r\\n    \"name\": \"Headline\",\\r\\n    \"share\": \"minority\",\\r\\n    \"strategy_id\": 3022,\\r\\n    \"strategy_name\": \"Early - Europe\"\\r\\n  }\\r\\n]',\n",
       "       '[\\r\\n  {\\r\\n    \"id\": 659,\\r\\n    \"name\": \"Bpifrance\",\\r\\n    \"share\": \"minority\",\\r\\n    \"strategy_id\": 2224,\\r\\n    \"strategy_name\": \"Innobio\"\\r\\n  },\\r\\n  {\\r\\n    \"id\": 376,\\r\\n    \"name\": \"Exor\",\\r\\n    \"share\": \"minority\",\\r\\n    \"strategy_id\": null,\\r\\n    \"strategy_name\": null\\r\\n  },\\r\\n  {\\r\\n    \"id\": 1068,\\r\\n    \"name\": \"Vlerick Group\",\\r\\n    \"share\": \"minority\",\\r\\n    \"strategy_id\": null,\\r\\n    \"strategy_name\": null\\r\\n  },\\r\\n  {\\r\\n    \"id\": 2560,\\r\\n    \"name\": \"Ysios Capital\",\\r\\n    \"share\": \"minority\",\\r\\n    \"strategy_id\": null,\\r\\n    \"strategy_name\": null\\r\\n  },\\r\\n  {\\r\\n    \"id\": 3035,\\r\\n    \"name\": \"Financière Arbevel\",\\r\\n    \"share\": \"minority\",\\r\\n    \"strategy_id\": null,\\r\\n    \"strategy_name\": null\\r\\n  },\\r\\n  {\\r\\n    \"id\": 4281,\\r\\n    \"name\": \"M&L Healthcare\",\\r\\n    \"share\": \"minority\",\\r\\n    \"strategy_id\": null,\\r\\n    \"strategy_name\": null\\r\\n  },\\r\\n  {\\r\\n    \"id\": 614,\\r\\n    \"name\": \"Seventure Partners\",\\r\\n    \"share\": \"minority\",\\r\\n    \"strategy_id\": null,\\r\\n    \"strategy_name\": null\\r\\n  },\\r\\n  {\\r\\n    \"id\": 982,\\r\\n    \"name\": \"Sofinnova Partners\",\\r\\n    \"share\": \"minority\",\\r\\n    \"strategy_id\": null,\\r\\n    \"strategy_name\": null\\r\\n  },\\r\\n  {\\r\\n    \"id\": 10826,\\r\\n    \"name\": \"European Innovation Council\",\\r\\n    \"share\": \"minority\",\\r\\n    \"strategy_id\": null,\\r\\n    \"strategy_name\": null\\r\\n  },\\r\\n  {\\r\\n    \"id\": 745,\\r\\n    \"name\": \"Novo Holdings\",\\r\\n    \"share\": \"minority\",\\r\\n    \"strategy_id\": null,\\r\\n    \"strategy_name\": null\\r\\n  }\\r\\n]',\n",
       "       '[\\r\\n  {\\r\\n    \"id\": 3741,\\r\\n    \"name\": \"White Bridge Investments\",\\r\\n    \"share\": \"majority\",\\r\\n    \"strategy_id\": null,\\r\\n    \"strategy_name\": null\\r\\n  }\\r\\n]',\n",
       "       '[\\r\\n  {\\r\\n    \"id\": 4149,\\r\\n    \"name\": \"ProA Capital\",\\r\\n    \"share\": \"majority\",\\r\\n    \"strategy_id\": null,\\r\\n    \"strategy_name\": null\\r\\n  }\\r\\n]',\n",
       "       '[\\r\\n  {\\r\\n    \"id\": 1467,\\r\\n    \"name\": \"360 Capital\",\\r\\n    \"share\": \"minority\",\\r\\n    \"strategy_id\": null,\\r\\n    \"strategy_name\": null\\r\\n  }\\r\\n]',\n",
       "       '[\\r\\n  {\\r\\n    \"id\": 1727,\\r\\n    \"name\": \"AXA Investment Managers\",\\r\\n    \"share\": \"minority\",\\r\\n    \"strategy_id\": null,\\r\\n    \"strategy_name\": null\\r\\n  },\\r\\n  {\\r\\n    \"id\": 1961,\\r\\n    \"name\": \"Mirova\",\\r\\n    \"share\": \"minority\",\\r\\n    \"strategy_id\": null,\\r\\n    \"strategy_name\": null\\r\\n  },\\r\\n  {\\r\\n    \"id\": 190,\\r\\n    \"name\": \"Sienna Investment Managers\",\\r\\n    \"share\": \"minority\",\\r\\n    \"strategy_id\": null,\\r\\n    \"strategy_name\": null\\r\\n  },\\r\\n  {\\r\\n    \"id\": 1633,\\r\\n    \"name\": \"Ternel\",\\r\\n    \"share\": \"minority\",\\r\\n    \"strategy_id\": null,\\r\\n    \"strategy_name\": null\\r\\n  },\\r\\n  {\\r\\n    \"id\": 1496,\\r\\n    \"name\": \"Beringea\",\\r\\n    \"share\": \"minority\",\\r\\n    \"strategy_id\": null,\\r\\n    \"strategy_name\": null\\r\\n  }\\r\\n]',\n",
       "       '[\\r\\n  {\\r\\n    \"id\": 13010,\\r\\n    \"name\": \"Fondazione Social Venture Giordano Dell’Amore\",\\r\\n    \"share\": \"minority\",\\r\\n    \"strategy_id\": null,\\r\\n    \"strategy_name\": null\\r\\n  }\\r\\n]',\n",
       "       '[\\r\\n  {\\r\\n    \"id\": 2140,\\r\\n    \"name\": \"Capital Export\",\\r\\n    \"share\": \"minority\",\\r\\n    \"strategy_id\": null,\\r\\n    \"strategy_name\": null\\r\\n  }\\r\\n]',\n",
       "       '[\\r\\n  {\\r\\n    \"id\": 1992,\\r\\n    \"name\": \"Aquiti Gestion\",\\r\\n    \"share\": \"minority\",\\r\\n    \"strategy_id\": null,\\r\\n    \"strategy_name\": null\\r\\n  },\\r\\n  {\\r\\n    \"id\": 659,\\r\\n    \"name\": \"Bpifrance\",\\r\\n    \"share\": \"minority\",\\r\\n    \"strategy_id\": 2215,\\r\\n    \"strategy_name\": \"Small-cap\"\\r\\n  }\\r\\n]',\n",
       "       '[\\r\\n  {\\r\\n    \"id\": 3741,\\r\\n    \"name\": \"White Bridge Investments\",\\r\\n    \"share\": \"majority\",\\r\\n    \"strategy_id\": null,\\r\\n    \"strategy_name\": null\\r\\n  },\\r\\n  {\\r\\n    \"id\": 3389,\\r\\n    \"name\": \"Aksìa Group\",\\r\\n    \"share\": \"minority\",\\r\\n    \"strategy_id\": null,\\r\\n    \"strategy_name\": null\\r\\n  },\\r\\n  {\\r\\n    \"id\": 1075,\\r\\n    \"name\": \"DVR Capital\",\\r\\n    \"share\": \"minority\",\\r\\n    \"strategy_id\": null,\\r\\n    \"strategy_name\": null\\r\\n  }\\r\\n]',\n",
       "       '[\\r\\n  {\\r\\n    \"id\": 1024,\\r\\n    \"name\": \"Consilium Private Equity\",\\r\\n    \"share\": \"majority\",\\r\\n    \"strategy_id\": null,\\r\\n    \"strategy_name\": null\\r\\n  }\\r\\n]',\n",
       "       '[\\r\\n  {\\r\\n    \"id\": 3952,\\r\\n    \"name\": \"Prime Movers Lab\",\\r\\n    \"share\": \"minority\",\\r\\n    \"strategy_id\": null,\\r\\n    \"strategy_name\": null\\r\\n  }\\r\\n]',\n",
       "       '[\\r\\n  {\\r\\n    \"id\": 1535,\\r\\n    \"name\": \"Italmobiliare\",\\r\\n    \"share\": \"majority\",\\r\\n    \"strategy_id\": null,\\r\\n    \"strategy_name\": null\\r\\n  }\\r\\n]',\n",
       "       '[\\r\\n  {\\r\\n    \"id\": 1505,\\r\\n    \"name\": \"Serena\",\\r\\n    \"share\": \"minority\",\\r\\n    \"strategy_id\": null,\\r\\n    \"strategy_name\": null\\r\\n  }\\r\\n]',\n",
       "       '[\\r\\n  {\\r\\n    \"id\": 2665,\\r\\n    \"name\": \"Redpoint Ventures\",\\r\\n    \"share\": \"minority\",\\r\\n    \"strategy_id\": 2556,\\r\\n    \"strategy_name\": \"Venture Capital\"\\r\\n  },\\r\\n  {\\r\\n    \"id\": 2148,\\r\\n    \"name\": \"Felicis Ventures\",\\r\\n    \"share\": \"minority\",\\r\\n    \"strategy_id\": null,\\r\\n    \"strategy_name\": null\\r\\n  },\\r\\n  {\\r\\n    \"id\": 2755,\\r\\n    \"name\": \"Motier Ventures\",\\r\\n    \"share\": \"minority\",\\r\\n    \"strategy_id\": null,\\r\\n    \"strategy_name\": null\\r\\n  },\\r\\n  {\\r\\n    \"id\": 659,\\r\\n    \"name\": \"Bpifrance\",\\r\\n    \"share\": \"minority\",\\r\\n    \"strategy_id\": 2221,\\r\\n    \"strategy_name\": \"Digital Venture\"\\r\\n  },\\r\\n  {\\r\\n    \"id\": 2057,\\r\\n    \"name\": \"New Wave\",\\r\\n    \"share\": \"minority\",\\r\\n    \"strategy_id\": null,\\r\\n    \"strategy_name\": null\\r\\n  },\\r\\n  {\\r\\n    \"id\": 1351,\\r\\n    \"name\": \"Frst\",\\r\\n    \"share\": \"minority\",\\r\\n    \"strategy_id\": null,\\r\\n    \"strategy_name\": null\\r\\n  },\\r\\n  {\\r\\n    \"id\": 8306,\\r\\n    \"name\": \"Bain Capital Ventures - Dupe\",\\r\\n    \"share\": \"minority\",\\r\\n    \"strategy_id\": null,\\r\\n    \"strategy_name\": null\\r\\n  },\\r\\n  {\\r\\n    \"id\": 13329,\\r\\n    \"name\": \"eBay Ventures\",\\r\\n    \"share\": \"minority\",\\r\\n    \"strategy_id\": null,\\r\\n    \"strategy_name\": null\\r\\n  },\\r\\n  {\\r\\n    \"id\": 6009,\\r\\n    \"name\": \"LG Technology Ventures\",\\r\\n    \"share\": \"minority\",\\r\\n    \"strategy_id\": null,\\r\\n    \"strategy_name\": null\\r\\n  },\\r\\n  {\\r\\n    \"id\": 1798,\\r\\n    \"name\": \"Citi Group\",\\r\\n    \"share\": \"minority\",\\r\\n    \"strategy_id\": 4493,\\r\\n    \"strategy_name\": \"Ventures\"\\r\\n  },\\r\\n  {\\r\\n    \"id\": 720,\\r\\n    \"name\": \"DST Global\",\\r\\n    \"share\": \"minority\",\\r\\n    \"strategy_id\": null,\\r\\n    \"strategy_name\": null\\r\\n  },\\r\\n  {\\r\\n    \"id\": 715,\\r\\n    \"name\": \"StepStone Group\",\\r\\n    \"share\": \"minority\",\\r\\n    \"strategy_id\": 4767,\\r\\n    \"strategy_name\": \"Private Equity & Venture Capital\"\\r\\n  },\\r\\n  {\\r\\n    \"id\": 3658,\\r\\n    \"name\": \"Schroders Capital\",\\r\\n    \"share\": \"minority\",\\r\\n    \"strategy_id\": 3980,\\r\\n    \"strategy_name\": \"Private Equity - Venture & Growth\"\\r\\n  },\\r\\n  {\\r\\n    \"id\": 5499,\\r\\n    \"name\": \"Capital One Ventures\",\\r\\n    \"share\": \"minority\",\\r\\n    \"strategy_id\": 4455,\\r\\n    \"strategy_name\": \"Flagship\"\\r\\n  }\\r\\n]',\n",
       "       '[\\r\\n  {\\r\\n    \"id\": 2135,\\r\\n    \"name\": \"Open CNP\",\\r\\n    \"share\": \"minority\",\\r\\n    \"strategy_id\": null,\\r\\n    \"strategy_name\": null\\r\\n  },\\r\\n  {\\r\\n    \"id\": 659,\\r\\n    \"name\": \"Bpifrance\",\\r\\n    \"share\": \"minority\",\\r\\n    \"strategy_id\": 2221,\\r\\n    \"strategy_name\": \"Digital Venture\"\\r\\n  },\\r\\n  {\\r\\n    \"id\": 614,\\r\\n    \"name\": \"Seventure Partners\",\\r\\n    \"share\": \"minority\",\\r\\n    \"strategy_id\": null,\\r\\n    \"strategy_name\": null\\r\\n  },\\r\\n  {\\r\\n    \"id\": 1744,\\r\\n    \"name\": \"Adelie\",\\r\\n    \"share\": \"minority\",\\r\\n    \"strategy_id\": null,\\r\\n    \"strategy_name\": null\\r\\n  },\\r\\n  {\\r\\n    \"id\": 899,\\r\\n    \"name\": \"Wendel Group\",\\r\\n    \"share\": \"minority\",\\r\\n    \"strategy_id\": 4022,\\r\\n    \"strategy_name\": \"Growth\"\\r\\n  },\\r\\n  {\\r\\n    \"id\": 2570,\\r\\n    \"name\": \"Eiffel Investment Group\",\\r\\n    \"share\": \"minority\",\\r\\n    \"strategy_id\": null,\\r\\n    \"strategy_name\": null\\r\\n  },\\r\\n  {\\r\\n    \"id\": 2769,\\r\\n    \"name\": \"Normandie Participations\",\\r\\n    \"share\": \"minority\",\\r\\n    \"strategy_id\": null,\\r\\n    \"strategy_name\": null\\r\\n  }\\r\\n]',\n",
       "       '[\\r\\n  {\\r\\n    \"id\": 1727,\\r\\n    \"name\": \"AXA Investment Managers\",\\r\\n    \"share\": \"minority\",\\r\\n    \"strategy_id\": 4787,\\r\\n    \"strategy_name\": \"Venture Partners\"\\r\\n  },\\r\\n  {\\r\\n    \"id\": 1411,\\r\\n    \"name\": \"Kima Ventures\",\\r\\n    \"share\": \"minority\",\\r\\n    \"strategy_id\": null,\\r\\n    \"strategy_name\": null\\r\\n  },\\r\\n  {\\r\\n    \"id\": 4580,\\r\\n    \"name\": \"BTP Capital\",\\r\\n    \"share\": \"minority\",\\r\\n    \"strategy_id\": null,\\r\\n    \"strategy_name\": null\\r\\n  },\\r\\n  {\\r\\n    \"id\": 1183,\\r\\n    \"name\": \"Kerala Ventures\",\\r\\n    \"share\": \"minority\",\\r\\n    \"strategy_id\": null,\\r\\n    \"strategy_name\": null\\r\\n  },\\r\\n  {\\r\\n    \"id\": 659,\\r\\n    \"name\": \"Bpifrance\",\\r\\n    \"share\": \"minority\",\\r\\n    \"strategy_id\": 2221,\\r\\n    \"strategy_name\": \"Digital Venture\"\\r\\n  }\\r\\n]',\n",
       "       '[\\r\\n  {\\r\\n    \"id\": 1468,\\r\\n    \"name\": \"Innogest Capital\",\\r\\n    \"share\": \"minority\",\\r\\n    \"strategy_id\": null,\\r\\n    \"strategy_name\": null\\r\\n  }\\r\\n]',\n",
       "       '[\\r\\n  {\\r\\n    \"id\": 1805,\\r\\n    \"name\": \"Milano Investment Partners\",\\r\\n    \"share\": \"minority\",\\r\\n    \"strategy_id\": null,\\r\\n    \"strategy_name\": null\\r\\n  },\\r\\n  {\\r\\n    \"id\": 1324,\\r\\n    \"name\": \"Amundi Private Equity Funds\",\\r\\n    \"share\": \"minority\",\\r\\n    \"strategy_id\": null,\\r\\n    \"strategy_name\": null\\r\\n  },\\r\\n  {\\r\\n    \"id\": 1681,\\r\\n    \"name\": \"Picus Capital\",\\r\\n    \"share\": \"minority\",\\r\\n    \"strategy_id\": null,\\r\\n    \"strategy_name\": null\\r\\n  }\\r\\n]',\n",
       "       '[\\r\\n  {\\r\\n    \"id\": 659,\\r\\n    \"name\": \"Bpifrance\",\\r\\n    \"share\": \"minority\",\\r\\n    \"strategy_id\": null,\\r\\n    \"strategy_name\": null\\r\\n  },\\r\\n  {\\r\\n    \"id\": 1992,\\r\\n    \"name\": \"Aquiti Gestion\",\\r\\n    \"share\": \"minority\",\\r\\n    \"strategy_id\": null,\\r\\n    \"strategy_name\": null\\r\\n  }\\r\\n]',\n",
       "       '[\\r\\n  {\\r\\n    \"id\": 2484,\\r\\n    \"name\": \"Side Capital \",\\r\\n    \"share\": \"minority\",\\r\\n    \"strategy_id\": null,\\r\\n    \"strategy_name\": null\\r\\n  }\\r\\n]',\n",
       "       '[\\r\\n  {\\r\\n    \"id\": 1160,\\r\\n    \"name\": \"LBO France\",\\r\\n    \"share\": \"minority\",\\r\\n    \"strategy_id\": null,\\r\\n    \"strategy_name\": null\\r\\n  }\\r\\n]',\n",
       "       '[\\r\\n  {\\r\\n    \"id\": 2223,\\r\\n    \"name\": \"Evolem\",\\r\\n    \"share\": \"minority\",\\r\\n    \"strategy_id\": null,\\r\\n    \"strategy_name\": null\\r\\n  },\\r\\n  {\\r\\n    \"id\": 1505,\\r\\n    \"name\": \"Serena\",\\r\\n    \"share\": \"minority\",\\r\\n    \"strategy_id\": null,\\r\\n    \"strategy_name\": null\\r\\n  }\\r\\n]',\n",
       "       '[\\r\\n  {\\r\\n    \"id\": 5648,\\r\\n    \"name\": \"Techstars\",\\r\\n    \"share\": \"minority\",\\r\\n    \"strategy_id\": null,\\r\\n    \"strategy_name\": null\\r\\n  },\\r\\n  {\\r\\n    \"id\": 4966,\\r\\n    \"name\": \"115K\",\\r\\n    \"share\": \"minority\",\\r\\n    \"strategy_id\": null,\\r\\n    \"strategy_name\": null\\r\\n  }\\r\\n]',\n",
       "       '[\\r\\n  {\\r\\n    \"id\": 17296,\\r\\n    \"name\": \"Ventures Platform\",\\r\\n    \"share\": \"minority\",\\r\\n    \"strategy_id\": null,\\r\\n    \"strategy_name\": null\\r\\n  }\\r\\n]',\n",
       "       '[\\r\\n  {\\r\\n    \"id\": 598,\\r\\n    \"name\": \"Silver Lake\",\\r\\n    \"share\": \"minority\",\\r\\n    \"strategy_id\": 1733,\\r\\n    \"strategy_name\": \"Flagship\"\\r\\n  },\\r\\n  {\\r\\n    \"id\": 362,\\r\\n    \"name\": \"Felix Capital\",\\r\\n    \"share\": \"minority\",\\r\\n    \"strategy_id\": null,\\r\\n    \"strategy_name\": null\\r\\n  },\\r\\n  {\\r\\n    \"id\": 1083,\\r\\n    \"name\": \"Elaia Partners\",\\r\\n    \"share\": \"minority\",\\r\\n    \"strategy_id\": null,\\r\\n    \"strategy_name\": null\\r\\n  },\\r\\n  {\\r\\n    \"id\": 139,\\r\\n    \"name\": \"Permira\",\\r\\n    \"share\": \"minority\",\\r\\n    \"strategy_id\": 1903,\\r\\n    \"strategy_name\": \"Growth Opportunities\"\\r\\n  },\\r\\n  {\\r\\n    \"id\": 13,\\r\\n    \"name\": \"Bain Capital\",\\r\\n    \"share\": \"minority\",\\r\\n    \"strategy_id\": 1897,\\r\\n    \"strategy_name\": \"Ventures\"\\r\\n  },\\r\\n  {\\r\\n    \"id\": 960,\\r\\n    \"name\": \"83North\",\\r\\n    \"share\": \"minority\",\\r\\n    \"strategy_id\": 3365,\\r\\n    \"strategy_name\": \"Venture Capital\"\\r\\n  }\\r\\n]',\n",
       "       '[\\r\\n  {\\r\\n    \"id\": 982,\\r\\n    \"name\": \"Sofinnova Partners\",\\r\\n    \"share\": \"minority\",\\r\\n    \"strategy_id\": null,\\r\\n    \"strategy_name\": null\\r\\n  }\\r\\n]',\n",
       "       '[\\r\\n  {\\r\\n    \"id\": 1050,\\r\\n    \"name\": \"ISAI Gestion\",\\r\\n    \"share\": \"minority\",\\r\\n    \"strategy_id\": null,\\r\\n    \"strategy_name\": null\\r\\n  },\\r\\n  {\\r\\n    \"id\": 2768,\\r\\n    \"name\": \"GO Capital\",\\r\\n    \"share\": \"minority\",\\r\\n    \"strategy_id\": null,\\r\\n    \"strategy_name\": null\\r\\n  }\\r\\n]',\n",
       "       '[\\r\\n  {\\r\\n    \"id\": 659,\\r\\n    \"name\": \"Bpifrance\",\\r\\n    \"share\": \"minority\",\\r\\n    \"strategy_id\": null,\\r\\n    \"strategy_name\": null\\r\\n  }\\r\\n]',\n",
       "       '[\\r\\n  {\\r\\n    \"id\": 3062,\\r\\n    \"name\": \"Extens\",\\r\\n    \"share\": \"minority\",\\r\\n    \"strategy_id\": null,\\r\\n    \"strategy_name\": null\\r\\n  }\\r\\n]',\n",
       "       '[\\r\\n  {\\r\\n    \"id\": 235,\\r\\n    \"name\": \"Astorg\",\\r\\n    \"share\": \"minority\",\\r\\n    \"strategy_id\": null,\\r\\n    \"strategy_name\": null\\r\\n  }\\r\\n]',\n",
       "       '[\\r\\n  {\\r\\n    \"id\": 4110,\\r\\n    \"name\": \"Karot Capital\",\\r\\n    \"share\": \"minority\",\\r\\n    \"strategy_id\": null,\\r\\n    \"strategy_name\": null\\r\\n  }\\r\\n]',\n",
       "       '[\\r\\n  {\\r\\n    \"id\": 1151,\\r\\n    \"name\": \"Abénex\",\\r\\n    \"share\": \"majority\",\\r\\n    \"strategy_id\": 2810,\\r\\n    \"strategy_name\": \"Buyout\"\\r\\n  }\\r\\n]',\n",
       "       '[\\r\\n  {\\r\\n    \"id\": 1852,\\r\\n    \"name\": \"Visionaries Club\",\\r\\n    \"share\": \"minority\",\\r\\n    \"strategy_id\": null,\\r\\n    \"strategy_name\": null\\r\\n  },\\r\\n  {\\r\\n    \"id\": 11667,\\r\\n    \"name\": \"Sandberg Bernthal Venture Partners\",\\r\\n    \"share\": \"minority\",\\r\\n    \"strategy_id\": null,\\r\\n    \"strategy_name\": null\\r\\n  },\\r\\n  {\\r\\n    \"id\": 362,\\r\\n    \"name\": \"Felix Capital\",\\r\\n    \"share\": \"minority\",\\r\\n    \"strategy_id\": null,\\r\\n    \"strategy_name\": null\\r\\n  },\\r\\n  {\\r\\n    \"id\": 167,\\r\\n    \"name\": \"ICONIQ Capital\",\\r\\n    \"share\": \"minority\",\\r\\n    \"strategy_id\": null,\\r\\n    \"strategy_name\": null\\r\\n  },\\r\\n  {\\r\\n    \"id\": 6275,\\r\\n    \"name\": \"Institutional Venture Partners\",\\r\\n    \"share\": \"minority\",\\r\\n    \"strategy_id\": null,\\r\\n    \"strategy_name\": null\\r\\n  },\\r\\n  {\\r\\n    \"id\": 1351,\\r\\n    \"name\": \"Frst\",\\r\\n    \"share\": \"minority\",\\r\\n    \"strategy_id\": null,\\r\\n    \"strategy_name\": null\\r\\n  },\\r\\n  {\\r\\n    \"id\": 1639,\\r\\n    \"name\": \"FirstMark Capital\",\\r\\n    \"share\": \"minority\",\\r\\n    \"strategy_id\": 3050,\\r\\n    \"strategy_name\": \"S1\"\\r\\n  },\\r\\n  {\\r\\n    \"id\": 2562,\\r\\n    \"name\": \"Blossom Capital\",\\r\\n    \"share\": \"minority\",\\r\\n    \"strategy_id\": null,\\r\\n    \"strategy_name\": null\\r\\n  },\\r\\n  {\\r\\n    \"id\": 9204,\\r\\n    \"name\": \"Greenoaks\",\\r\\n    \"share\": \"minority\",\\r\\n    \"strategy_id\": 4526,\\r\\n    \"strategy_name\": \"Flagship\"\\r\\n  },\\r\\n  {\\r\\n    \"id\": 1851,\\r\\n    \"name\": \"Meritech Capital\",\\r\\n    \"share\": \"minority\",\\r\\n    \"strategy_id\": null,\\r\\n    \"strategy_name\": null\\r\\n  }\\r\\n]',\n",
       "       '[\\r\\n  {\\r\\n    \"id\": 1478,\\r\\n    \"name\": \"Otium Capital\",\\r\\n    \"share\": \"minority\",\\r\\n    \"strategy_id\": null,\\r\\n    \"strategy_name\": null\\r\\n  }\\r\\n]',\n",
       "       '[\\r\\n  {\\r\\n    \"id\": 17,\\r\\n    \"name\": \"Bridgepoint\",\\r\\n    \"share\": \"minority\",\\r\\n    \"strategy_id\": 441,\\r\\n    \"strategy_name\": \"Middle Market\"\\r\\n  }\\r\\n]',\n",
       "       '[\\r\\n  {\\r\\n    \"id\": 1478,\\r\\n    \"name\": \"Otium Capital\",\\r\\n    \"share\": \"majority\",\\r\\n    \"strategy_id\": 4757,\\r\\n    \"strategy_name\": \"Otium Partners\"\\r\\n  }\\r\\n]',\n",
       "       '[\\r\\n  {\\r\\n    \"id\": 181,\\r\\n    \"name\": \"Andera Partners\",\\r\\n    \"share\": \"minority\",\\r\\n    \"strategy_id\": 1992,\\r\\n    \"strategy_name\": \"MidCap\"\\r\\n  }\\r\\n]',\n",
       "       '[\\r\\n  {\\r\\n    \"id\": 4358,\\r\\n    \"name\": \"Long Arc Capital \",\\r\\n    \"share\": \"majority\",\\r\\n    \"strategy_id\": null,\\r\\n    \"strategy_name\": null\\r\\n  },\\r\\n  {\\r\\n    \"id\": 1082,\\r\\n    \"name\": \"Societe Generale Capital Partenaires\",\\r\\n    \"share\": \"minority\",\\r\\n    \"strategy_id\": null,\\r\\n    \"strategy_name\": null\\r\\n  }\\r\\n]',\n",
       "       '[\\r\\n  {\\r\\n    \"id\": 3851,\\r\\n    \"name\": \"CIR Group\",\\r\\n    \"share\": \"majority\",\\r\\n    \"strategy_id\": null,\\r\\n    \"strategy_name\": null\\r\\n  },\\r\\n  {\\r\\n    \"id\": 2345,\\r\\n    \"name\": \"F2i SGR\",\\r\\n    \"share\": \"minority\",\\r\\n    \"strategy_id\": 3036,\\r\\n    \"strategy_name\": \"Buyout\"\\r\\n  }\\r\\n]',\n",
       "       '[\\r\\n  {\\r\\n    \"id\": 6345,\\r\\n    \"name\": \"Agila Capital\",\\r\\n    \"share\": \"minority\",\\r\\n    \"strategy_id\": null,\\r\\n    \"strategy_name\": null\\r\\n  }\\r\\n]',\n",
       "       '[\\r\\n  {\\r\\n    \"id\": 1411,\\r\\n    \"name\": \"Kima Ventures\",\\r\\n    \"share\": \"minority\",\\r\\n    \"strategy_id\": null,\\r\\n    \"strategy_name\": null\\r\\n  },\\r\\n  {\\r\\n    \"id\": 2481,\\r\\n    \"name\": \"Marbeuf Capital\",\\r\\n    \"share\": \"minority\",\\r\\n    \"strategy_id\": null,\\r\\n    \"strategy_name\": null\\r\\n  },\\r\\n  {\\r\\n    \"id\": 659,\\r\\n    \"name\": \"Bpifrance\",\\r\\n    \"share\": \"minority\",\\r\\n    \"strategy_id\": 2223,\\r\\n    \"strategy_name\": \"Large Venture\"\\r\\n  },\\r\\n  {\\r\\n    \"id\": 615,\\r\\n    \"name\": \"XAnge\",\\r\\n    \"share\": \"minority\",\\r\\n    \"strategy_id\": null,\\r\\n    \"strategy_name\": null\\r\\n  },\\r\\n  {\\r\\n    \"id\": 947,\\r\\n    \"name\": \"Daphni\",\\r\\n    \"share\": \"minority\",\\r\\n    \"strategy_id\": null,\\r\\n    \"strategy_name\": null\\r\\n  }\\r\\n]',\n",
       "       '[\\r\\n  {\\r\\n    \"id\": 1164,\\r\\n    \"name\": \"BNP Paribas\",\\r\\n    \"share\": \"minority\",\\r\\n    \"strategy_id\": null,\\r\\n    \"strategy_name\": null\\r\\n  },\\r\\n  {\\r\\n    \"id\": 10232,\\r\\n    \"name\": \"Origine Partners\",\\r\\n    \"share\": \"majority\",\\r\\n    \"strategy_id\": null,\\r\\n    \"strategy_name\": null\\r\\n  },\\r\\n  {\\r\\n    \"id\": 659,\\r\\n    \"name\": \"Bpifrance\",\\r\\n    \"share\": \"minority\",\\r\\n    \"strategy_id\": 4393,\\r\\n    \"strategy_name\": \" Investissement\"\\r\\n  },\\r\\n  {\\r\\n    \"id\": 2327,\\r\\n    \"name\": \"Garibaldi Participations\",\\r\\n    \"share\": \"minority\",\\r\\n    \"strategy_id\": null,\\r\\n    \"strategy_name\": null\\r\\n  }\\r\\n]',\n",
       "       '[\\r\\n  {\\r\\n    \"id\": 1189,\\r\\n    \"name\": \"Cassa Depositi e Prestiti\",\\r\\n    \"share\": \"minority\",\\r\\n    \"strategy_id\": null,\\r\\n    \"strategy_name\": null\\r\\n  }\\r\\n]',\n",
       "       '[\\r\\n  {\\r\\n    \"id\": 14342,\\r\\n    \"name\": \"Forepont Capital Partners\",\\r\\n    \"share\": \"minority\",\\r\\n    \"strategy_id\": null,\\r\\n    \"strategy_name\": null\\r\\n  },\\r\\n  {\\r\\n    \"id\": 14338,\\r\\n    \"name\": \"Neurotechnology Investors\",\\r\\n    \"share\": \"minority\",\\r\\n    \"strategy_id\": null,\\r\\n    \"strategy_name\": null\\r\\n  }\\r\\n]',\n",
       "       '[\\r\\n  {\\r\\n    \"id\": 984,\\r\\n    \"name\": \"UI Investissement\",\\r\\n    \"share\": \"minority\",\\r\\n    \"strategy_id\": 3378,\\r\\n    \"strategy_name\": \"Entrepreneurs\"\\r\\n  },\\r\\n  {\\r\\n    \"id\": 1426,\\r\\n    \"name\": \"The Invus Group\",\\r\\n    \"share\": \"minority\",\\r\\n    \"strategy_id\": 4477,\\r\\n    \"strategy_name\": \"Opportunities\"\\r\\n  },\\r\\n  {\\r\\n    \"id\": 2255,\\r\\n    \"name\": \"eureKARE\",\\r\\n    \"share\": \"minority\",\\r\\n    \"strategy_id\": null,\\r\\n    \"strategy_name\": null\\r\\n  },\\r\\n  {\\r\\n    \"id\": 659,\\r\\n    \"name\": \"Bpifrance\",\\r\\n    \"share\": \"minority\",\\r\\n    \"strategy_id\": 2224,\\r\\n    \"strategy_name\": \"Innobio\"\\r\\n  },\\r\\n  {\\r\\n    \"id\": 745,\\r\\n    \"name\": \"Novo Holdings\",\\r\\n    \"share\": \"minority\",\\r\\n    \"strategy_id\": null,\\r\\n    \"strategy_name\": null\\r\\n  },\\r\\n  {\\r\\n    \"id\": 823,\\r\\n    \"name\": \"V-Bio Ventures\",\\r\\n    \"share\": \"minority\",\\r\\n    \"strategy_id\": null,\\r\\n    \"strategy_name\": null\\r\\n  },\\r\\n  {\\r\\n    \"id\": 3428,\\r\\n    \"name\": \"Pontifax Venture Capital\",\\r\\n    \"share\": \"minority\",\\r\\n    \"strategy_id\": null,\\r\\n    \"strategy_name\": null\\r\\n  },\\r\\n  {\\r\\n    \"id\": 1716,\\r\\n    \"name\": \"Turenne Group\",\\r\\n    \"share\": \"minority\",\\r\\n    \"strategy_id\": 3447,\\r\\n    \"strategy_name\": \"Health\"\\r\\n  },\\r\\n  {\\r\\n    \"id\": 2768,\\r\\n    \"name\": \"GO Capital\",\\r\\n    \"share\": \"minority\",\\r\\n    \"strategy_id\": 3452,\\r\\n    \"strategy_name\": \"Venture Capital\"\\r\\n  },\\r\\n  {\\r\\n    \"id\": 189,\\r\\n    \"name\": \"Eurazeo\",\\r\\n    \"share\": \"minority\",\\r\\n    \"strategy_id\": 2173,\\r\\n    \"strategy_name\": \"Idinvest Private Debt\"\\r\\n  },\\r\\n  {\\r\\n    \"id\": 1885,\\r\\n    \"name\": \"Fund+\",\\r\\n    \"share\": \"minority\",\\r\\n    \"strategy_id\": null,\\r\\n    \"strategy_name\": null\\r\\n  },\\r\\n  {\\r\\n    \"id\": 3452,\\r\\n    \"name\": \"Seroba Life Sciences\",\\r\\n    \"share\": \"minority\",\\r\\n    \"strategy_id\": null,\\r\\n    \"strategy_name\": null\\r\\n  },\\r\\n  {\\r\\n    \"id\": 890,\\r\\n    \"name\": \"Kurma Partners\",\\r\\n    \"share\": \"minority\",\\r\\n    \"strategy_id\": 2978,\\r\\n    \"strategy_name\": \"Biofund\"\\r\\n  },\\r\\n  {\\r\\n    \"id\": 279,\\r\\n    \"name\": \"idiCo\",\\r\\n    \"share\": \"minority\",\\r\\n    \"strategy_id\": 4085,\\r\\n    \"strategy_name\": \"Omnes - Co-Investment\"\\r\\n  }\\r\\n]',\n",
       "       '[\\r\\n  {\\r\\n    \"id\": 1017,\\r\\n    \"name\": \"Siparex\",\\r\\n    \"share\": \"minority\",\\r\\n    \"strategy_id\": 2123,\\r\\n    \"strategy_name\": \"MidCap\"\\r\\n  },\\r\\n  {\\r\\n    \"id\": 1245,\\r\\n    \"name\": \"Weinberg Capital Partners\",\\r\\n    \"share\": \"minority\",\\r\\n    \"strategy_id\": 4516,\\r\\n    \"strategy_name\": \"Nobel\"\\r\\n  },\\r\\n  {\\r\\n    \"id\": 414,\\r\\n    \"name\": \"Tikehau Capital\",\\r\\n    \"share\": \"minority\",\\r\\n    \"strategy_id\": 1694,\\r\\n    \"strategy_name\": \"Real Assets\"\\r\\n  },\\r\\n  {\\r\\n    \"id\": 1986,\\r\\n    \"name\": \"Unexo\",\\r\\n    \"share\": \"minority\",\\r\\n    \"strategy_id\": 2099,\\r\\n    \"strategy_name\": \"Development \"\\r\\n  },\\r\\n  {\\r\\n    \"id\": 1164,\\r\\n    \"name\": \"BNP Paribas\",\\r\\n    \"share\": \"minority\",\\r\\n    \"strategy_id\": null,\\r\\n    \"strategy_name\": null\\r\\n  },\\r\\n  {\\r\\n    \"id\": 1987,\\r\\n    \"name\": \"Sodero Gestion\",\\r\\n    \"share\": \"minority\",\\r\\n    \"strategy_id\": 2102,\\r\\n    \"strategy_name\": \"Development\"\\r\\n  }\\r\\n]',\n",
       "       '[\\r\\n  {\\r\\n    \"id\": 3320,\\r\\n    \"name\": \"Primo Capital\",\\r\\n    \"share\": \"minority\",\\r\\n    \"strategy_id\": null,\\r\\n    \"strategy_name\": null\\r\\n  },\\r\\n  {\\r\\n    \"id\": 12402,\\r\\n    \"name\": \"Zest Group\",\\r\\n    \"share\": \"minority\",\\r\\n    \"strategy_id\": null,\\r\\n    \"strategy_name\": null\\r\\n  }\\r\\n]',\n",
       "       '[\\r\\n  {\\r\\n    \"id\": 41,\\r\\n    \"name\": \"H.I.G. Capital\",\\r\\n    \"share\": \"majority\",\\r\\n    \"strategy_id\": 2027,\\r\\n    \"strategy_name\": \"Private Equity\"\\r\\n  }\\r\\n]',\n",
       "       '[\\r\\n  {\\r\\n    \"id\": 4811,\\r\\n    \"name\": \"Vine Alternative Investments\",\\r\\n    \"share\": \"majority\",\\r\\n    \"strategy_id\": null,\\r\\n    \"strategy_name\": null\\r\\n  },\\r\\n  {\\r\\n    \"id\": 4812,\\r\\n    \"name\": \"Falcon Investment Advisors\",\\r\\n    \"share\": \"minority\",\\r\\n    \"strategy_id\": null,\\r\\n    \"strategy_name\": null\\r\\n  }\\r\\n]',\n",
       "       '[\\r\\n  {\\r\\n    \"id\": 10,\\r\\n    \"name\": \"Ardian\",\\r\\n    \"share\": \"minority\",\\r\\n    \"strategy_id\": 1804,\\r\\n    \"strategy_name\": \"Expansion \"\\r\\n  },\\r\\n  {\\r\\n    \"id\": 1017,\\r\\n    \"name\": \"Siparex\",\\r\\n    \"share\": \"minority\",\\r\\n    \"strategy_id\": 3429,\\r\\n    \"strategy_name\": \"France Nucléaire\"\\r\\n  },\\r\\n  {\\r\\n    \"id\": 1324,\\r\\n    \"name\": \"Amundi Private Equity Funds\",\\r\\n    \"share\": \"minority\",\\r\\n    \"strategy_id\": null,\\r\\n    \"strategy_name\": null\\r\\n  },\\r\\n  {\\r\\n    \"id\": 659,\\r\\n    \"name\": \"Bpifrance\",\\r\\n    \"share\": \"minority\",\\r\\n    \"strategy_id\": null,\\r\\n    \"strategy_name\": null\\r\\n  },\\r\\n  {\\r\\n    \"id\": 963,\\r\\n    \"name\": \"EMZ Partners\",\\r\\n    \"share\": \"minority\",\\r\\n    \"strategy_id\": null,\\r\\n    \"strategy_name\": null\\r\\n  },\\r\\n  {\\r\\n    \"id\": 28,\\r\\n    \"name\": \"Equistone\",\\r\\n    \"share\": \"minority\",\\r\\n    \"strategy_id\": null,\\r\\n    \"strategy_name\": null\\r\\n  },\\r\\n  {\\r\\n    \"id\": 414,\\r\\n    \"name\": \"Tikehau Capital\",\\r\\n    \"share\": \"minority\",\\r\\n    \"strategy_id\": null,\\r\\n    \"strategy_name\": null\\r\\n  }\\r\\n]',\n",
       "       '[\\r\\n  {\\r\\n    \"id\": 890,\\r\\n    \"name\": \"Kurma Partners\",\\r\\n    \"share\": \"minority\",\\r\\n    \"strategy_id\": null,\\r\\n    \"strategy_name\": null\\r\\n  },\\r\\n  {\\r\\n    \"id\": 2076,\\r\\n    \"name\": \"Fountain Healthcare Partners\",\\r\\n    \"share\": \"minority\",\\r\\n    \"strategy_id\": null,\\r\\n    \"strategy_name\": null\\r\\n  },\\r\\n  {\\r\\n    \"id\": 731,\\r\\n    \"name\": \"OrbiMed\",\\r\\n    \"share\": \"minority\",\\r\\n    \"strategy_id\": null,\\r\\n    \"strategy_name\": null\\r\\n  },\\r\\n  {\\r\\n    \"id\": 2393,\\r\\n    \"name\": \"Jeito Capital\",\\r\\n    \"share\": \"minority\",\\r\\n    \"strategy_id\": null,\\r\\n    \"strategy_name\": null\\r\\n  },\\r\\n  {\\r\\n    \"id\": 4865,\\r\\n    \"name\": \"Invivo Capital\",\\r\\n    \"share\": \"minority\",\\r\\n    \"strategy_id\": null,\\r\\n    \"strategy_name\": null\\r\\n  },\\r\\n  {\\r\\n    \"id\": 279,\\r\\n    \"name\": \"idiCo\",\\r\\n    \"share\": \"minority\",\\r\\n    \"strategy_id\": 3359,\\r\\n    \"strategy_name\": \"Omnes - Real Tech (Venture Capital) \"\\r\\n  },\\r\\n  {\\r\\n    \"id\": 823,\\r\\n    \"name\": \"V-Bio Ventures\",\\r\\n    \"share\": \"minority\",\\r\\n    \"strategy_id\": null,\\r\\n    \"strategy_name\": null\\r\\n  }\\r\\n]',\n",
       "       '[\\r\\n  {\\r\\n    \"id\": 279,\\r\\n    \"name\": \"idiCo\",\\r\\n    \"share\": \"minority\",\\r\\n    \"strategy_id\": 3359,\\r\\n    \"strategy_name\": \"Omnes - Real Tech (Venture Capital) \"\\r\\n  },\\r\\n  {\\r\\n    \"id\": 3140,\\r\\n    \"name\": \"Wille Finance\",\\r\\n    \"share\": \"minority\",\\r\\n    \"strategy_id\": null,\\r\\n    \"strategy_name\": null\\r\\n  },\\r\\n  {\\r\\n    \"id\": 10826,\\r\\n    \"name\": \"European Innovation Council\",\\r\\n    \"share\": \"minority\",\\r\\n    \"strategy_id\": null,\\r\\n    \"strategy_name\": null\\r\\n  },\\r\\n  {\\r\\n    \"id\": 1354,\\r\\n    \"name\": \"Indaco Venture Partners\",\\r\\n    \"share\": \"minority\",\\r\\n    \"strategy_id\": null,\\r\\n    \"strategy_name\": null\\r\\n  },\\r\\n  {\\r\\n    \"id\": 1468,\\r\\n    \"name\": \"Innogest Capital\",\\r\\n    \"share\": \"minority\",\\r\\n    \"strategy_id\": null,\\r\\n    \"strategy_name\": null\\r\\n  }\\r\\n]',\n",
       "       '[\\r\\n  {\\r\\n    \"id\": 3695,\\r\\n    \"name\": \"Finorpa Gestion\",\\r\\n    \"share\": \"minority\",\\r\\n    \"strategy_id\": null,\\r\\n    \"strategy_name\": null\\r\\n  }\\r\\n]',\n",
       "       '[\\r\\n  {\\r\\n    \"id\": 678,\\r\\n    \"name\": \"Montefiore Investment\",\\r\\n    \"share\": \"majority\",\\r\\n    \"strategy_id\": null,\\r\\n    \"strategy_name\": null\\r\\n  }\\r\\n]',\n",
       "       '[\\r\\n  {\\r\\n    \"id\": 1309,\\r\\n    \"name\": \"Dzeta Conseil\",\\r\\n    \"share\": \"majority\",\\r\\n    \"strategy_id\": null,\\r\\n    \"strategy_name\": null\\r\\n  }\\r\\n]',\n",
       "       '[\\r\\n  {\\r\\n    \"id\": 2822,\\r\\n    \"name\": \"Karista\",\\r\\n    \"share\": \"minority\",\\r\\n    \"strategy_id\": null,\\r\\n    \"strategy_name\": null\\r\\n  }\\r\\n]'],\n",
       "      dtype=object)"
      ]
     },
     "execution_count": 43,
     "metadata": {},
     "output_type": "execute_result"
    }
   ],
   "source": [
    "df['INVESTORS'].unique()"
   ]
  },
  {
   "cell_type": "code",
   "execution_count": null,
   "metadata": {},
   "outputs": [
    {
     "data": {
      "text/plain": [
       "Index(['ADD_ON_DEAL_COUNT_L3Y', 'ADD_ON_DEAL_COUNT_L5Y', 'BUSINESS_ACTIVITY',\n",
       "       'BUSINESS_DESCRIPTION', 'CURRENCY', 'CURRENCY_TO_EUR', 'CUSTOMER_BASE',\n",
       "       'DESCRIPTION', 'EBIT', 'EBITDA', 'ESG', 'ESG_OUTPERFORMER',\n",
       "       'FINANCIAL_RESULTS', 'FTE', 'GAIN_PRO_URL', 'GROWTH_METRICS',\n",
       "       'HEADQUARTERS_CITY', 'HEADQUARTERS_COUNTRY_CODE',\n",
       "       'HEADQUARTERS_FORMATTED_ADDRESS', 'HEADQUARTERS_REGION', 'ID',\n",
       "       'INVESTORS', 'LEGAL_ENTITIES', 'LINKEDIN_EXTERNAL_ID', 'NAME',\n",
       "       'OWNERSHIP', 'OWNERSHIP_IS_VERIFIED', 'PROFILE_TYPE', 'REGION',\n",
       "       'REVENUE', 'REVENUE_FTE_RATIO', 'REVENUE_FTE_RATIO_EUR',\n",
       "       'REVENUE_FTE_RATIO_YEAR', 'REVENUE_IS_AI_GENERATED',\n",
       "       'REVENUE_WITH_AI_GENERATED', 'REVENUE_WITH_AI_GENERATED_EUR',\n",
       "       'REVENUE_YEAR', 'SECTOR', 'SUBSECTOR', 'TAGS', 'URL', 'YEAR_FOUNDED'],\n",
       "      dtype='object')"
      ]
     },
     "execution_count": 15,
     "metadata": {},
     "output_type": "execute_result"
    }
   ],
   "source": [
    "df.columns"
   ]
  },
  {
   "cell_type": "code",
   "execution_count": 12,
   "metadata": {},
   "outputs": [
    {
     "name": "stdout",
     "output_type": "stream",
     "text": [
      "Entrez le pays de l'entreprise mère. ex: FR, DE, UK, US... \n",
      "\n",
      "Choisissez une valeur parmi celles disponibles pour REGION :\n",
      "['FR' 'IT']\n",
      "Exemple : 'FR' pour un seul élément, ['FR', 'DE'] pour plusieurs, ou 'all' pour tous.\n",
      "\n",
      "Choisissez une entreprise, voici quelques exemples :\n",
      "0                                     CENISIS\n",
      "1               PAVILLON DE LA GRANDE CASCADE\n",
      "2               SGA Société Gestion d'Accueil\n",
      "3                        COMMUNE DE MONTESSON\n",
      "4     DIMO - Objets et textiles personnalisés\n",
      "5                                Lycée Ozenne\n",
      "6                                    RAYMONDE\n",
      "10                      SOC DES ESPACES VERTS\n",
      "12                                   Formycom\n",
      "15                                    IDOCAPS\n",
      "Name: NAME, dtype: object\n",
      "Voulez-vous appliquer un filtre sur les valeurs de la colonne FTE/REVENUE/EBITDA ?\n",
      "Voulez-vous appliquer un filtre sur les valeurs de la colonne FTE/REVENUE/EBITDA ?\n",
      "Choisissez une valeur parmi celles disponibles pour REGION :\n",
      "['FR' 'IT']\n",
      "Exemple : 'FR' pour un seul élément, ['FR', 'DE'] pour plusieurs, ou 'all' pour tous.\n",
      "\n",
      "Choisissez une valeur parmi celles disponibles pour SECTOR :\n",
      "['consumer' 'services' 'tmt' 'scienceHealth' 'industrials']\n",
      "Exemple : 'FR' pour un seul élément, ['FR', 'DE'] pour plusieurs, ou 'all' pour tous.\n",
      "\n",
      "Choisissez une valeur parmi celles disponibles pour SUBSECTOR :\n",
      "['food' 'professionalServices' 'technicalServices' 'education'\n",
      " 'technology' 'media' 'software' 'medtech' 'agriculture' 'consumerGoods'\n",
      " 'biotechnology' 'healthcareServices' 'retail' 'pharmaceuticals']\n",
      "Exemple : 'FR' pour un seul élément, ['FR', 'DE'] pour plusieurs, ou 'all' pour tous.\n",
      "\n",
      "Vous avez choisi : Pays = ['FR' 'IT'], Secteur = ['consumer' 'services' 'tmt' 'scienceHealth' 'industrials'], Sous-secteur = ['food' 'professionalServices' 'technicalServices' 'education'\n",
      " 'technology' 'media' 'software' 'medtech' 'agriculture' 'consumerGoods'\n",
      " 'biotechnology' 'healthcareServices' 'retail' 'pharmaceuticals']\n",
      "L'entreprise mère contient ces mots-clés : bi, business intelligence, business consulting, integration, etl, data consulting, data governance, data strategy, data privacy, data transformation, data management, data migration, data infrastructure, data security, consulting, reporting, data integration, data access, master data management, data analytics\n",
      "Entrez des mots-clés supplémentaires (séparés par des virgules) pour affiner la recherche : \n",
      "Aucun mot-clé ajouté.\n",
      "Calcul de l'embedding sur la BUSINESS DESCRIPTION\n"
     ]
    },
    {
     "name": "stderr",
     "output_type": "stream",
     "text": [
      "Processing embeddings BUSINESS_DESCRIPTION: 100%|██████████| 2962/2962 [02:20<00:00, 21.06it/s]\n"
     ]
    },
    {
     "name": "stdout",
     "output_type": "stream",
     "text": [
      "Calcul de la réduction de dimension avec PCA...\n",
      "Nombre de dimensions retenues : 101 (pour 85.0% de variance)\n",
      "Calcul de l'embedding sur les TAGS\n"
     ]
    },
    {
     "name": "stderr",
     "output_type": "stream",
     "text": [
      "Processing embeddings TAGS: 100%|██████████| 2962/2962 [01:11<00:00, 41.54it/s]\n"
     ]
    },
    {
     "name": "stdout",
     "output_type": "stream",
     "text": [
      "Calcul de la réduction de dimension avec PCA...\n",
      "Nombre de dimensions retenues : 59 (pour 85.0% de variance)\n",
      "Calcul de la similarité combinée\n",
      "Top 50 des entreprises les plus similaires:\n",
      " 1004    ClickGeneration - l'Italia Che Evolve\n",
      "1129            CIDIESSE DATA SYSTEM - S.R.L.\n",
      "2609                                   Brains\n",
      "2774          Hilt Technology Engineering LTD\n",
      "264                                   Skylabs\n",
      "742                                  INOVELYA\n",
      "1477                        NEXIAN Consulting\n",
      "102                            EGGERS Conseil\n",
      "1831                                   Tildeo\n",
      "2121                                 NEXT-HOP\n",
      "1508                                smartpush\n",
      "926                             LEADEO GROUPE\n",
      "1135                                  inensia\n",
      "2713         Advice Information Technology IT\n",
      "150                                     DMAIC\n",
      "1862                               Olimpo Srl\n",
      "654                                     Upyne\n",
      "1118                       Just Make Business\n",
      "888                               Elledue Srl\n",
      "2405                               DATANALYSE\n",
      "2108                  Sistemi e Soluzioni Srl\n",
      "2422                         e-project s.r.l.\n",
      "1866                      DE GRAËT CONSULTING\n",
      "1485                           AlFaConsultinG\n",
      "591                             FIRST Conseil\n",
      "746                            Citron Conseil\n",
      "683                                    ENDKOO\n",
      "2630                        Onepoint x airmis\n",
      "2331                               Ipso Facto\n",
      "1084                         Sofos Consulting\n",
      "2483                          4Consulting SrL\n",
      "1580                                    LIKSI\n",
      "253                             Open Mind Srl\n",
      "422                   Shock-Wave| Agenzia web\n",
      "2716                           H&F Consulting\n",
      "1392                                     LBDI\n",
      "2209                                 Provigis\n",
      "2606                                  Artimon\n",
      "661                                     TESZU\n",
      "802                     Diapason Informatique\n",
      "1540           INTERNATIONAL OMEGA CONSULTING\n",
      "1000                                  Solicis\n",
      "2848                              Notoria srl\n",
      "1885                      Promo PA Fondazione\n",
      "1079                       Jobyourlife s.r.l.\n",
      "709                   ABOUT CONSULTING S.p.A.\n",
      "556                                COPLUS SRL\n",
      "611                   gf ConsulenzAziendaleHR\n",
      "844                           HEADSLab Italia\n",
      "962                                     ACCES\n",
      "Name: NAME, dtype: object\n",
      "[0.77516066 0.74246308 0.67263189 0.65981966 0.64922983 0.64153492\n",
      " 0.63321205 0.6208702  0.6143583  0.61260207 0.61129472 0.61063672\n",
      " 0.60982594 0.6072915  0.60479169 0.60088995 0.59119001 0.58905951\n",
      " 0.58110273 0.5787593  0.5767031  0.57457267 0.57450981 0.57371193\n",
      " 0.56987901 0.5698452  0.56931947 0.56856736 0.56539972 0.5639527\n",
      " 0.56017145 0.56008894 0.5595431  0.55914811 0.55615935 0.55570619\n",
      " 0.55474687 0.55315235 0.55009115 0.54738809 0.54717832 0.54680506\n",
      " 0.5454843  0.54499964 0.54286422 0.54191135 0.54124498 0.53899317\n",
      " 0.53835297 0.53673298]\n",
      "(2962,)\n"
     ]
    }
   ],
   "source": [
    "results = searchmodel_main(df, model=model, tokenizer=tokenizer, top_n=50)"
   ]
  },
  {
   "cell_type": "code",
   "execution_count": 13,
   "metadata": {},
   "outputs": [
    {
     "data": {
      "text/plain": [
       "Index([1004, 1129, 2609, 2774,  264,  742, 1477,  102, 1831, 2121, 1508,  926,\n",
       "       1135, 2713,  150, 1862,  654, 1118,  888, 2405, 2108, 2422, 1866, 1485,\n",
       "        591,  746,  683, 2630, 2331, 1084, 2483, 1580,  253,  422, 2716, 1392,\n",
       "       2209, 2606,  661,  802, 1540, 1000, 2848, 1885, 1079,  709,  556,  611,\n",
       "        844,  962],\n",
       "      dtype='int64')"
      ]
     },
     "execution_count": 13,
     "metadata": {},
     "output_type": "execute_result"
    }
   ],
   "source": [
    "results.index"
   ]
  },
  {
   "cell_type": "code",
   "execution_count": 14,
   "metadata": {},
   "outputs": [
    {
     "name": "stdout",
     "output_type": "stream",
     "text": [
      "2\n"
     ]
    }
   ],
   "source": [
    "def count_common_values(array1, array2):\n",
    "    \"\"\"\n",
    "    Returns the number of common values between two arrays.\n",
    "    \"\"\"\n",
    "    return len(set(array1) & set(array2))\n",
    "\n",
    "# Example usage\n",
    "arr1 = np.array([1012, 1138,  750, 1487,  618, 2797, 2349,  739,  153, 1551, 1518, 1879,\n",
    "       1407,  428,  934,  564, 2736, 1847,  363, 2631, 1592,  754, 2164, 1127,\n",
    "       1495, 2845,  661, 2576, 1883, 1088,  896,  267, 2739,  103, 1144, 1902,\n",
    "       1855, 2138,  519, 2652,  169,  835, 1217, 1104, 2227, 2125, 1391, 2744,\n",
    "       1665, 2331])\n",
    "arr2 = np.array([1004, 1129, 2609, 2774,  264,  742, 1477,  102, 1831, 2121, 1508,  926,\n",
    "       1135, 2713,  150, 1862,  654, 1118,  888, 2405, 2108, 2422, 1866, 1485,\n",
    "        591,  746,  683, 2630, 2331, 1084, 2483, 1580,  253,  422, 2716, 1392,\n",
    "       2209, 2606,  661,  802, 1540, 1000, 2848, 1885, 1079,  709,  556,  611,\n",
    "        844,  962])\n",
    "\n",
    "print(count_common_values(arr1, arr2))\n"
   ]
  }
 ],
 "metadata": {
  "kernelspec": {
   "display_name": "venv",
   "language": "python",
   "name": "python3"
  },
  "language_info": {
   "codemirror_mode": {
    "name": "ipython",
    "version": 3
   },
   "file_extension": ".py",
   "mimetype": "text/x-python",
   "name": "python",
   "nbconvert_exporter": "python",
   "pygments_lexer": "ipython3",
   "version": "3.11.0rc2"
  }
 },
 "nbformat": 4,
 "nbformat_minor": 2
}

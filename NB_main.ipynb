{
 "cells": [
  {
   "cell_type": "markdown",
   "metadata": {},
   "source": [
    "# NB to test locally the models"
   ]
  },
  {
   "cell_type": "code",
   "execution_count": 1,
   "metadata": {},
   "outputs": [
    {
     "name": "stderr",
     "output_type": "stream",
     "text": [
      "c:\\Users\\vince\\Documents\\PYTHON\\M2DS\\Capstone_ARDIAN\\ARDIAN_CAPSTONE\\venv\\Lib\\site-packages\\tqdm\\auto.py:21: TqdmWarning: IProgress not found. Please update jupyter and ipywidgets. See https://ipywidgets.readthedocs.io/en/stable/user_install.html\n",
      "  from .autonotebook import tqdm as notebook_tqdm\n",
      "c:\\Users\\vince\\Documents\\PYTHON\\M2DS\\Capstone_ARDIAN\\ARDIAN_CAPSTONE\\venv\\Lib\\site-packages\\fuzzywuzzy\\fuzz.py:11: UserWarning: Using slow pure-python SequenceMatcher. Install python-Levenshtein to remove this warning\n",
      "  warnings.warn('Using slow pure-python SequenceMatcher. Install python-Levenshtein to remove this warning')\n"
     ]
    }
   ],
   "source": [
    "# Librairies\n",
    "import importlib\n",
    "import os\n",
    "import sys\n",
    "\n",
    "import pandas as pd\n",
    "import numpy as np\n",
    "import matplotlib.pyplot as plt\n",
    "from transformers import AutoTokenizer, AutoModel\n",
    "import torch\n",
    "\n",
    "# Packages maison\n",
    "from Scripts.main import searchmodel_main"
   ]
  },
  {
   "cell_type": "code",
   "execution_count": 2,
   "metadata": {},
   "outputs": [],
   "source": [
    "import Scripts.filter_user\n",
    "import Scripts.filter_user.filter\n",
    "import Scripts.main\n",
    "importlib.reload(Scripts.main)\n",
    "importlib.reload(Scripts.filter_user.filter)\n",
    "from Scripts.main import searchmodel_main"
   ]
  },
  {
   "cell_type": "code",
   "execution_count": 3,
   "metadata": {},
   "outputs": [],
   "source": [
    "# Load model from HuggingFace Hub\n",
    "tokenizer = AutoTokenizer.from_pretrained(\"sentence-transformers/multi-qa-MiniLM-L6-cos-v1\")\n",
    "model = AutoModel.from_pretrained(\"sentence-transformers/multi-qa-MiniLM-L6-cos-v1\")"
   ]
  },
  {
   "cell_type": "code",
   "execution_count": 4,
   "metadata": {},
   "outputs": [],
   "source": [
    "df = pd.read_csv('data/df_for_local.csv')\n",
    "df = df.dropna(subset=['BUSINESS_DESCRIPTION'])"
   ]
  },
  {
   "cell_type": "code",
   "execution_count": 6,
   "metadata": {},
   "outputs": [
    {
     "name": "stdout",
     "output_type": "stream",
     "text": [
      "Choisissez une valeur parmi celles disponibles pour REGION :\n",
      "['FR' 'IT']\n",
      "Exemple : 'FR' pour un seul élément, ['FR', 'DE'] pour plusieurs, ou 'all' pour tous.\n",
      "\n",
      "Choisissez une entreprise, voici quelques exemples :\n",
      "0                                     CENISIS\n",
      "1               PAVILLON DE LA GRANDE CASCADE\n",
      "2               SGA Société Gestion d'Accueil\n",
      "3                        COMMUNE DE MONTESSON\n",
      "4     DIMO - Objets et textiles personnalisés\n",
      "5                                Lycée Ozenne\n",
      "6                                    RAYMONDE\n",
      "10                      SOC DES ESPACES VERTS\n",
      "12                                   Formycom\n",
      "15                                    IDOCAPS\n",
      "Name: NAME, dtype: object\n",
      "Voulez-vous appliquer un filtre sur les valeurs de la colonne FTE/REVENUE/EBITDA ?\n",
      "Choisissez une valeur parmi celles disponibles pour REGION :\n",
      "['FR' 'IT']\n",
      "Exemple : 'FR' pour un seul élément, ['FR', 'DE'] pour plusieurs, ou 'all' pour tous.\n",
      "\n",
      "Choisissez une valeur parmi celles disponibles pour SECTOR :\n",
      "['consumer' 'services' 'tmt' 'scienceHealth' 'industrials']\n",
      "Exemple : 'FR' pour un seul élément, ['FR', 'DE'] pour plusieurs, ou 'all' pour tous.\n",
      "\n",
      "Choisissez une valeur parmi celles disponibles pour SUBSECTOR :\n",
      "['food' 'professionalServices' 'software' 'technology' 'medtech'\n",
      " 'agriculture' 'healthcareServices' 'retail' 'consumerGoods' 'media'\n",
      " 'technicalServices' 'education' 'pharmaceuticals' 'biotechnology']\n",
      "Exemple : 'FR' pour un seul élément, ['FR', 'DE'] pour plusieurs, ou 'all' pour tous.\n",
      "\n",
      "Vous avez choisi : Pays = ['FR' 'IT'], Secteur = ['consumer' 'services' 'tmt' 'scienceHealth' 'industrials'], Sous-secteur = ['food' 'professionalServices' 'software' 'technology' 'medtech'\n",
      " 'agriculture' 'healthcareServices' 'retail' 'consumerGoods' 'media'\n",
      " 'technicalServices' 'education' 'pharmaceuticals' 'biotechnology']\n",
      "Entrez des mots-clés (séparés par des virgules) pour affiner la recherche : \n",
      "Aucun mot-clé ajouté.\n"
     ]
    },
    {
     "name": "stderr",
     "output_type": "stream",
     "text": [
      "Processing embeddings: 100%|██████████| 620/620 [00:24<00:00, 24.95it/s]\n"
     ]
    },
    {
     "name": "stdout",
     "output_type": "stream",
     "text": [
      "Calcul de la réduction de dimension avec PCA...\n",
      "Nombre de dimensions retenues : 98 (pour 85.0% de variance)\n",
      "Top 5 des entreprises les plus similaires:\n",
      " 502      DATANALYSE\n",
      "174         CEREMIS\n",
      "301          Datama\n",
      "420          JNESIS\n",
      "283    AS CEFIGA 37\n",
      "Name: NAME, dtype: object\n"
     ]
    }
   ],
   "source": [
    "searchmodel_main(df, model=model, tokenizer=tokenizer, top_n=5)"
   ]
  }
 ],
 "metadata": {
  "kernelspec": {
   "display_name": "venv",
   "language": "python",
   "name": "python3"
  },
  "language_info": {
   "codemirror_mode": {
    "name": "ipython",
    "version": 3
   },
   "file_extension": ".py",
   "mimetype": "text/x-python",
   "name": "python",
   "nbconvert_exporter": "python",
   "pygments_lexer": "ipython3",
   "version": "3.11.0rc2"
  }
 },
 "nbformat": 4,
 "nbformat_minor": 2
}

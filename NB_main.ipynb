{
 "cells": [
  {
   "cell_type": "markdown",
   "metadata": {},
   "source": [
    "# NB to test locally the models"
   ]
  },
  {
   "cell_type": "code",
   "execution_count": 2,
   "metadata": {},
   "outputs": [],
   "source": [
    "# Librairies\n",
    "\n",
    "import importlib\n",
    "import os\n",
    "import sys\n",
    "\n",
    "import pandas as pd\n",
    "import numpy as np\n",
    "import matplotlib.pyplot as plt\n",
    "from transformers import BertModel, BertTokenizer\n",
    "from transformers import AutoTokenizer, AutoModel\n",
    "import torch\n",
    "\n",
    "# Packages maison\n",
    "from Scripts.main import searchmodel_main"
   ]
  },
  {
   "cell_type": "code",
   "execution_count": 3,
   "metadata": {},
   "outputs": [],
   "source": [
    "# Load model from HuggingFace Hub\n",
    "tokenizer = AutoTokenizer.from_pretrained(\"sentence-transformers/multi-qa-MiniLM-L6-cos-v1\")\n",
    "model = AutoModel.from_pretrained(\"sentence-transformers/multi-qa-MiniLM-L6-cos-v1\")"
   ]
  },
  {
   "cell_type": "code",
   "execution_count": 4,
   "metadata": {},
   "outputs": [],
   "source": [
    "df = pd.read_csv('data/df_for_local.csv')\n",
    "df = df.dropna(subset=['BUSINESS_DESCRIPTION'])"
   ]
  },
  {
   "cell_type": "code",
   "execution_count": 6,
   "metadata": {},
   "outputs": [
    {
     "name": "stdout",
     "output_type": "stream",
     "text": [
      "Choisissez une valeur parmi celles disponibles pour REGION :\n",
      "['FR' 'IT']\n",
      "Exemple : 'FR' pour un seul élément, ['FR', 'DE'] pour plusieurs, ou 'all' pour tous.\n",
      "\n",
      "Choisissez une valeur parmi celles disponibles pour SECTOR :\n",
      "['services' 'consumer' 'tmt' 'scienceHealth' 'industrials']\n",
      "Exemple : 'FR' pour un seul élément, ['FR', 'DE'] pour plusieurs, ou 'all' pour tous.\n",
      "\n",
      "Choisissez une valeur parmi celles disponibles pour SUBSECTOR :\n",
      "['professionalServices' 'food' 'technicalServices' 'education' 'software'\n",
      " 'technology' 'medtech' 'agriculture' 'consumerGoods' 'biotechnology'\n",
      " 'retail' 'healthcareServices' 'media' 'pharmaceuticals']\n",
      "Exemple : 'FR' pour un seul élément, ['FR', 'DE'] pour plusieurs, ou 'all' pour tous.\n",
      "\n",
      "Vous avez choisi : Pays = ['FR'], Secteur = ['tmt'], Sous-secteur = ['software' 'technology']\n",
      "Choisissez une entreprise parmi :\n",
      "['Formycom' 'HEXADRONE' \"Hip'Guard\" 'CERFACS' 'BeAR2b by ARGO' 'VP&WHITE'\n",
      " 'Plebicom' 'FacNote' 'Ecostaff - Septeo LegalTech' 'M3 Systems']\n",
      "6\n",
      "Entrez, si vous le souhaitez, des mots-clés pour affiner la recherche : \n"
     ]
    },
    {
     "name": "stderr",
     "output_type": "stream",
     "text": [
      "Processing embeddings: 100%|██████████| 231/231 [00:05<00:00, 43.88it/s]"
     ]
    },
    {
     "name": "stdout",
     "output_type": "stream",
     "text": [
      "Calcul de la réduction de dimension avec PCA...\n",
      "Nombre de dimensions retenues : 93 (pour 90.0% de variance)\n",
      "Top 5 des entreprises les plus similaires à Plebicom :\n",
      " 140    CloprNFT\n",
      "7       FacNote\n",
      "146      Demooz\n",
      "25       Exalog\n",
      "0      Formycom\n",
      "Name: NAME, dtype: object\n"
     ]
    },
    {
     "name": "stderr",
     "output_type": "stream",
     "text": [
      "\n"
     ]
    }
   ],
   "source": [
    "searchmodel_main(df, model=model, tokenizer=tokenizer, top_n=5)"
   ]
  }
 ],
 "metadata": {
  "kernelspec": {
   "display_name": "venv",
   "language": "python",
   "name": "python3"
  },
  "language_info": {
   "codemirror_mode": {
    "name": "ipython",
    "version": 3
   },
   "file_extension": ".py",
   "mimetype": "text/x-python",
   "name": "python",
   "nbconvert_exporter": "python",
   "pygments_lexer": "ipython3",
   "version": "3.11.0rc2"
  }
 },
 "nbformat": 4,
 "nbformat_minor": 2
}

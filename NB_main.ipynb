{
 "cells": [
  {
   "cell_type": "markdown",
   "metadata": {},
   "source": [
    "# NB to test locally the models"
   ]
  },
  {
   "cell_type": "code",
   "execution_count": 1,
   "metadata": {},
   "outputs": [
    {
     "name": "stderr",
     "output_type": "stream",
     "text": [
      "c:\\Users\\vince\\Documents\\PYTHON\\M2DS\\Capstone_ARDIAN\\ARDIAN_CAPSTONE\\venv\\Lib\\site-packages\\tqdm\\auto.py:21: TqdmWarning: IProgress not found. Please update jupyter and ipywidgets. See https://ipywidgets.readthedocs.io/en/stable/user_install.html\n",
      "  from .autonotebook import tqdm as notebook_tqdm\n"
     ]
    }
   ],
   "source": [
    "# Librairies\n",
    "import importlib\n",
    "import os\n",
    "import sys\n",
    "\n",
    "import pandas as pd\n",
    "import numpy as np\n",
    "import matplotlib.pyplot as plt\n",
    "from transformers import AutoTokenizer, AutoModel\n",
    "import torch\n",
    "\n"
   ]
  },
  {
   "cell_type": "code",
   "execution_count": 4,
   "metadata": {},
   "outputs": [
    {
     "name": "stderr",
     "output_type": "stream",
     "text": [
      "c:\\Users\\vince\\Documents\\PYTHON\\M2DS\\Capstone_ARDIAN\\ARDIAN_CAPSTONE\\venv\\Lib\\site-packages\\fuzzywuzzy\\fuzz.py:11: UserWarning: Using slow pure-python SequenceMatcher. Install python-Levenshtein to remove this warning\n",
      "  warnings.warn('Using slow pure-python SequenceMatcher. Install python-Levenshtein to remove this warning')\n"
     ]
    }
   ],
   "source": [
    "import Scripts.filter_user\n",
    "import Scripts.filter_user.filter\n",
    "import Scripts.main\n",
    "from Scripts.main import searchmodel_main"
   ]
  },
  {
   "cell_type": "code",
   "execution_count": 6,
   "metadata": {},
   "outputs": [
    {
     "data": {
      "text/plain": [
       "<module 'Scripts.language_model_folder' (<_frozen_importlib_external.NamespaceLoader object at 0x00000191EA8642D0>)>"
      ]
     },
     "execution_count": 6,
     "metadata": {},
     "output_type": "execute_result"
    }
   ],
   "source": [
    "importlib.reload(Scripts.main)\n",
    "importlib.reload(Scripts.filter_user.filter)\n",
    "importlib.reload(Scripts.filter_user)\n",
    "importlib.reload(Scripts.language_model_folder)"
   ]
  },
  {
   "cell_type": "code",
   "execution_count": 7,
   "metadata": {},
   "outputs": [],
   "source": [
    "# Load model from HuggingFace Hub\n",
    "tokenizer = AutoTokenizer.from_pretrained(\"sentence-transformers/multi-qa-MiniLM-L6-cos-v1\")\n",
    "model = AutoModel.from_pretrained(\"sentence-transformers/multi-qa-MiniLM-L6-cos-v1\")"
   ]
  },
  {
   "cell_type": "code",
   "execution_count": 8,
   "metadata": {},
   "outputs": [],
   "source": [
    "df = pd.read_csv('data/df_for_local.csv')\n",
    "df = df.dropna(subset=['BUSINESS_DESCRIPTION'])"
   ]
  },
  {
   "cell_type": "code",
   "execution_count": 9,
   "metadata": {},
   "outputs": [
    {
     "name": "stdout",
     "output_type": "stream",
     "text": [
      "Entrez le pays de l'entreprise mère. ex: FR, DE, UK, US... \n",
      "\n",
      "Choisissez une valeur parmi celles disponibles pour REGION :\n",
      "['FR' 'IT']\n",
      "Exemple : 'FR' pour un seul élément, ['FR', 'DE'] pour plusieurs, ou 'all' pour tous.\n",
      "\n",
      "Choisissez une entreprise, voici quelques exemples :\n",
      "0                                     CENISIS\n",
      "1               PAVILLON DE LA GRANDE CASCADE\n",
      "2               SGA Société Gestion d'Accueil\n",
      "3                        COMMUNE DE MONTESSON\n",
      "4     DIMO - Objets et textiles personnalisés\n",
      "5                                Lycée Ozenne\n",
      "6                                    RAYMONDE\n",
      "10                      SOC DES ESPACES VERTS\n",
      "12                                   Formycom\n",
      "15                                    IDOCAPS\n",
      "Name: NAME, dtype: object\n",
      "Voulez-vous appliquer un filtre sur les valeurs de la colonne FTE/REVENUE/EBITDA ?\n",
      "Choisissez une valeur parmi celles disponibles pour REGION :\n",
      "['FR' 'IT']\n",
      "Exemple : 'FR' pour un seul élément, ['FR', 'DE'] pour plusieurs, ou 'all' pour tous.\n",
      "\n",
      "Choisissez une valeur parmi celles disponibles pour SECTOR :\n",
      "['consumer' 'services' 'tmt' 'scienceHealth' 'industrials']\n",
      "Exemple : 'FR' pour un seul élément, ['FR', 'DE'] pour plusieurs, ou 'all' pour tous.\n",
      "\n",
      "Choisissez une valeur parmi celles disponibles pour SUBSECTOR :\n",
      "['professionalServices' 'technicalServices' 'education']\n",
      "Exemple : 'FR' pour un seul élément, ['FR', 'DE'] pour plusieurs, ou 'all' pour tous.\n",
      "\n",
      "Vous avez choisi : Pays = ['FR'], Secteur = ['services'], Sous-secteur = ['professionalServices' 'technicalServices' 'education']\n",
      "L'entreprise mère contient ces mots-clés : bi, business intelligence, business consulting, integration, etl, data consulting, data governance, data strategy, data privacy, data transformation, data management, data migration, data infrastructure, data security, consulting, reporting, data integration, data access, master data management, data analytics\n",
      "Entrez des mots-clés supplémentaires (séparés par des virgules) pour affiner la recherche : \n",
      "Aucun mot-clé ajouté.\n"
     ]
    },
    {
     "name": "stderr",
     "output_type": "stream",
     "text": [
      "Processing embeddings: 100%|██████████| 132/132 [00:06<00:00, 20.99it/s]\n"
     ]
    },
    {
     "name": "stdout",
     "output_type": "stream",
     "text": [
      "Calcul de la réduction de dimension avec PCA...\n",
      "Nombre de dimensions retenues : 44 (pour 85.0% de variance)\n",
      "Top 100 des entreprises les plus similaires:\n",
      " 83                                  ERMI77 - TIAMA GROUP\n",
      "118                                                 buga\n",
      "92                                 AD Amenagement ADAsas\n",
      "54                                    Arche Informatique\n",
      "85                Crèches & micro-crèches Planet Karapat\n",
      "23                                                 dioki\n",
      "77                                     BIONETT INDUSTRIE\n",
      "58                                        EFG Etanchéité\n",
      "71                                           Rhoni Group\n",
      "117                                    Onepoint x airmis\n",
      "24                             HELP Propreté et services\n",
      "104                                              SEMLINK\n",
      "49                                                itmsol\n",
      "88                                Imprimerie F. Paillart\n",
      "48                                   DBConsulting France\n",
      "2                                       Oxave Consulting\n",
      "5                                                   MSEP\n",
      "28                                                 iWEME\n",
      "17                                      Cabinet Marestin\n",
      "0                                               PRODAXIS\n",
      "67                        INTERNATIONAL OMEGA CONSULTING\n",
      "97                                              NEXT-HOP\n",
      "26                                                 TESZU\n",
      "52                                               ANTAŬEN\n",
      "36                                               ALIAN'S\n",
      "59                                  PROTEC WASH SERVICES\n",
      "106                                             Typoform\n",
      "101                             MONTANT GENIE CLIMATIQUE\n",
      "110                                Euro Coffres Services\n",
      "66                                BLEUE COMME UNE ORANGE\n",
      "89                                  CAIRN CONSULTING SAS\n",
      "3                                     IMPRESSIONS FOMBON\n",
      "40                                         LEADEO GROUPE\n",
      "127                                 CREA LIFT Ascenseurs\n",
      "90                                              Effeness\n",
      "46     Ecole et formation du personnel de maison - Mo...\n",
      "75                                          SYDEC Groupe\n",
      "78                                        MEDIA & TRAD'S\n",
      "93                                          Be-Coworking\n",
      "27                                               SAS GRM\n",
      "96                                 LES IMPRESSIONS CARCY\n",
      "29                 Association Francophone Python (AFPy)\n",
      "8                                                  4SELL\n",
      "38     Logis Hotel Restaurant des Acacias Lille Tourc...\n",
      "50                                                  SLVS\n",
      "1                                     BETC communication\n",
      "81                                      FROID ET CLIM 33\n",
      "130                                       Aristote-group\n",
      "35                                  iVentures Consulting\n",
      "64                                        Domaine Louise\n",
      "15                                    QUADRA ARCHITECTES\n",
      "34                             Protektor Sécurité Privée\n",
      "123                                       MindOut France\n",
      "43                                  Groupe Push and Pull\n",
      "108                                            Magnussen\n",
      "41                     Naulleau - L’énergie de l’habitat\n",
      "98                                   Junior Conseil AQSE\n",
      "18                                         belleaventure\n",
      "82                  LEGROUP agence de communication 360°\n",
      "20                                              SAS PCVE\n",
      "19                                                  MATE\n",
      "122                                        Groupe C2 360\n",
      "57                      Campus UGA Valence Drôme Ardèche\n",
      "124                                         APARC school\n",
      "51                   Imprimerie AIS - BERIA Reprographie\n",
      "79                               APA Compétences - Reims\n",
      "105                                           ACP DUCERF\n",
      "61     EIPM - The European Institute of Purchasing Ma...\n",
      "80                        Kraemer & Hermés Participation\n",
      "84                                                Uneeti\n",
      "10                                               Meleana\n",
      "25                           Institut de la Photographie\n",
      "76                                          Lobster Life\n",
      "69                                     CAPRON IMMOBILIER\n",
      "125                                        Agence Becom'\n",
      "73                               SELAS LUGAND & Associés\n",
      "109                                           Ethicaline\n",
      "56                                        ARCA Computing\n",
      "4                                        Pol'Air Fluides\n",
      "16                                             ARFEUILLE\n",
      "53                                              DJ CLEAN\n",
      "22                                         KERAS AVOCATS\n",
      "103                                   ORIAD CENTRE OUEST\n",
      "39                                     Aymonier Notaires\n",
      "119                                        ECOCHAUFFE 28\n",
      "13                                           FDM'EXPERTS\n",
      "11     L'Agence culturelle départementale Dordogne-Pé...\n",
      "114                                            LesPoètes\n",
      "121                                          Lord of Web\n",
      "68                                                  N3RD\n",
      "94                                                 Mozby\n",
      "6                                     ECFC Fuster Costes\n",
      "37                           Association Frédéric Sévène\n",
      "47                          GALLILEO BUSINESS CONSULTING\n",
      "45                                      CAP RENTAL POWER\n",
      "116                                               Crhome\n",
      "32                             AQUITAINE CONSEIL GESTION\n",
      "65                                               Celigeo\n",
      "99                                            Immo Wurtz\n",
      "128                       MFR La Pommeraye / Saint-Désir\n",
      "Name: NAME, dtype: object\n",
      "[ 3.23168419e-01  3.16287233e-01  3.05261425e-01  2.95671549e-01\n",
      "  2.69600818e-01  2.46083286e-01  2.38920397e-01  2.30997580e-01\n",
      "  2.30098055e-01  2.28166489e-01  2.18693041e-01  2.08187521e-01\n",
      "  2.07891198e-01  2.02442587e-01  1.95862476e-01  1.95711401e-01\n",
      "  1.95385729e-01  1.94182267e-01  1.84947548e-01  1.80039256e-01\n",
      "  1.78065824e-01  1.63539924e-01  1.61544788e-01  1.52985560e-01\n",
      "  1.48982175e-01  1.43477915e-01  1.43113628e-01  1.37323460e-01\n",
      "  1.35245219e-01  1.29938410e-01  1.25719796e-01  1.19157693e-01\n",
      "  1.18517748e-01  1.15786760e-01  1.10670062e-01  1.09966535e-01\n",
      "  1.08581574e-01  1.02194256e-01  1.00602951e-01  9.89426754e-02\n",
      "  9.64564221e-02  9.58147978e-02  9.49199287e-02  9.36124136e-02\n",
      "  8.35234206e-02  8.13495641e-02  8.06712109e-02  7.97551752e-02\n",
      "  7.62275261e-02  6.83822097e-02  6.82532509e-02  6.36487800e-02\n",
      "  4.71823899e-02  4.66869899e-02  4.53847744e-02  4.40177381e-02\n",
      "  4.32635762e-02  4.30033483e-02  4.27637637e-02  3.35326705e-02\n",
      "  3.20160190e-02  2.88726527e-02  2.19778375e-02  2.10664944e-02\n",
      "  1.96990220e-02  1.85283206e-02  1.38898369e-02  1.35060426e-02\n",
      "  1.31707494e-02  6.91267813e-03  4.16644123e-03  3.14257652e-03\n",
      "  1.58411506e-05 -5.98128754e-03 -7.77062650e-03 -1.30510316e-02\n",
      " -1.86448324e-02 -2.07982938e-02 -2.35563876e-02 -3.38641268e-02\n",
      " -3.57609276e-02 -4.06710777e-02 -4.07011537e-02 -4.48781167e-02\n",
      " -4.77638020e-02 -6.91525173e-02 -7.82592856e-02 -7.90379695e-02\n",
      " -8.30877919e-02 -8.76908461e-02 -8.95731130e-02 -1.00706078e-01\n",
      " -1.06394615e-01 -1.07229001e-01 -1.09227799e-01 -1.11133873e-01\n",
      " -1.19501593e-01 -1.22269848e-01 -1.24211297e-01 -1.27912925e-01]\n",
      "(132,)\n"
     ]
    }
   ],
   "source": [
    "results = searchmodel_main(df, model=model, tokenizer=tokenizer, top_n=100)"
   ]
  },
  {
   "cell_type": "code",
   "execution_count": 1,
   "metadata": {},
   "outputs": [
    {
     "ename": "NameError",
     "evalue": "name 'results' is not defined",
     "output_type": "error",
     "traceback": [
      "\u001b[1;31m---------------------------------------------------------------------------\u001b[0m",
      "\u001b[1;31mNameError\u001b[0m                                 Traceback (most recent call last)",
      "Cell \u001b[1;32mIn[1], line 1\u001b[0m\n\u001b[1;32m----> 1\u001b[0m \u001b[43mresults\u001b[49m\u001b[38;5;241m.\u001b[39mhead()\n",
      "\u001b[1;31mNameError\u001b[0m: name 'results' is not defined"
     ]
    }
   ],
   "source": [
    "results.head()"
   ]
  }
 ],
 "metadata": {
  "kernelspec": {
   "display_name": "venv",
   "language": "python",
   "name": "python3"
  },
  "language_info": {
   "codemirror_mode": {
    "name": "ipython",
    "version": 3
   },
   "file_extension": ".py",
   "mimetype": "text/x-python",
   "name": "python",
   "nbconvert_exporter": "python",
   "pygments_lexer": "ipython3",
   "version": "3.11.0rc2"
  }
 },
 "nbformat": 4,
 "nbformat_minor": 2
}
